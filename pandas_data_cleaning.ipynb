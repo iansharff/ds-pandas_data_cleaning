{
 "cells": [
  {
   "cell_type": "markdown",
   "metadata": {
    "toc": true
   },
   "source": [
    "<h1>Table of Contents<span class=\"tocSkip\"></span></h1>\n",
    "<div class=\"toc\"><ul class=\"toc-item\"><li><span><a href=\"#Objectives\" data-toc-modified-id=\"Objectives-1\"><span class=\"toc-item-num\">1&nbsp;&nbsp;</span>Objectives</a></span></li><li><span><a href=\"#More-Pandas\" data-toc-modified-id=\"More-Pandas-2\"><span class=\"toc-item-num\">2&nbsp;&nbsp;</span>More Pandas</a></span><ul class=\"toc-item\"><li><span><a href=\"#Loading-the-Data\" data-toc-modified-id=\"Loading-the-Data-2.1\"><span class=\"toc-item-num\">2.1&nbsp;&nbsp;</span>Loading the Data</a></span></li></ul></li><li><span><a href=\"#Exploratory-Data-Analysis-(EDA)\" data-toc-modified-id=\"Exploratory-Data-Analysis-(EDA)-3\"><span class=\"toc-item-num\">3&nbsp;&nbsp;</span>Exploratory Data Analysis (EDA)</a></span><ul class=\"toc-item\"><li><span><a href=\"#Inspecting-the-Data\" data-toc-modified-id=\"Inspecting-the-Data-3.1\"><span class=\"toc-item-num\">3.1&nbsp;&nbsp;</span>Inspecting the Data</a></span></li><li><span><a href=\"#Question-1:-What-animal-types-are-in-the-dataset?\" data-toc-modified-id=\"Question-1:-What-animal-types-are-in-the-dataset?-3.2\"><span class=\"toc-item-num\">3.2&nbsp;&nbsp;</span>Question 1: What animal types are in the dataset?</a></span></li><li><span><a href=\"#Question-2:-What-&quot;Other&quot;-animals-are-in-the-dataset?\" data-toc-modified-id=\"Question-2:-What-&quot;Other&quot;-animals-are-in-the-dataset?-3.3\"><span class=\"toc-item-num\">3.3&nbsp;&nbsp;</span>Question 2: What \"Other\" animals are in the dataset?</a></span></li><li><span><a href=\"#Question-3:-How-old-are-the-animals-in-our-dataset?\" data-toc-modified-id=\"Question-3:-How-old-are-the-animals-in-our-dataset?-3.4\"><span class=\"toc-item-num\">3.4&nbsp;&nbsp;</span>Question 3: How old are the animals in our dataset?</a></span><ul class=\"toc-item\"><li><span><a href=\"#Series.map()\" data-toc-modified-id=\"Series.map()-3.4.1\"><span class=\"toc-item-num\">3.4.1&nbsp;&nbsp;</span><code>Series.map()</code></a></span></li><li><span><a href=\"#More-Sophisticated-Mapping\" data-toc-modified-id=\"More-Sophisticated-Mapping-3.4.2\"><span class=\"toc-item-num\">3.4.2&nbsp;&nbsp;</span>More Sophisticated Mapping</a></span></li><li><span><a href=\"#Lambda-Functions\" data-toc-modified-id=\"Lambda-Functions-3.4.3\"><span class=\"toc-item-num\">3.4.3&nbsp;&nbsp;</span>Lambda Functions</a></span></li></ul></li></ul></li><li><span><a href=\"#Handling-Missing-Data\" data-toc-modified-id=\"Handling-Missing-Data-4\"><span class=\"toc-item-num\">4&nbsp;&nbsp;</span>Handling Missing Data</a></span><ul class=\"toc-item\"><li><span><a href=\"#Fill-with-a-Relevant-Value\" data-toc-modified-id=\"Fill-with-a-Relevant-Value-4.1\"><span class=\"toc-item-num\">4.1&nbsp;&nbsp;</span>Fill with a Relevant Value</a></span></li><li><span><a href=\"#Fill-with-a-Reasonable-Value\" data-toc-modified-id=\"Fill-with-a-Reasonable-Value-4.2\"><span class=\"toc-item-num\">4.2&nbsp;&nbsp;</span>Fill with a Reasonable Value</a></span></li><li><span><a href=\"#Specify-That-the-Data-Were-Missing\" data-toc-modified-id=\"Specify-That-the-Data-Were-Missing-4.3\"><span class=\"toc-item-num\">4.3&nbsp;&nbsp;</span>Specify That the Data Were Missing</a></span></li><li><span><a href=\"#Drop-Missing-Data\" data-toc-modified-id=\"Drop-Missing-Data-4.4\"><span class=\"toc-item-num\">4.4&nbsp;&nbsp;</span>Drop Missing Data</a></span></li><li><span><a href=\"#Comparing-Before-and-After\" data-toc-modified-id=\"Comparing-Before-and-After-4.5\"><span class=\"toc-item-num\">4.5&nbsp;&nbsp;</span>Comparing Before and After</a></span></li></ul></li><li><span><a href=\"#Level-Up:-.applymap()\" data-toc-modified-id=\"Level-Up:-.applymap()-5\"><span class=\"toc-item-num\">5&nbsp;&nbsp;</span>Level Up: <code>.applymap()</code></a></span></li><li><span><a href=\"#Level-Up:-Faster-NumPy-Methods\" data-toc-modified-id=\"Level-Up:-Faster-NumPy-Methods-6\"><span class=\"toc-item-num\">6&nbsp;&nbsp;</span>Level Up: Faster NumPy Methods</a></span><ul class=\"toc-item\"><li><span><a href=\"#NumPy's-where()-Method\" data-toc-modified-id=\"NumPy's-where()-Method-6.1\"><span class=\"toc-item-num\">6.1&nbsp;&nbsp;</span>NumPy's <code>where()</code> Method</a></span></li><li><span><a href=\"#NumPy's-select()-Method\" data-toc-modified-id=\"NumPy's-select()-Method-6.2\"><span class=\"toc-item-num\">6.2&nbsp;&nbsp;</span>NumPy's <code>select()</code> Method</a></span></li></ul></li></ul></div>"
   ]
  },
  {
   "cell_type": "markdown",
   "metadata": {},
   "source": [
    "![panda](http://res.freestockphotos.biz/thumbs/3/3173-illustration-of-a-giant-panda-eating-bamboo-th.png)"
   ]
  },
  {
   "cell_type": "code",
   "execution_count": 1,
   "metadata": {},
   "outputs": [],
   "source": [
    "import numpy as np\n",
    "import pandas as pd\n",
    "\n",
    "from matplotlib import pyplot as plt\n",
    "%matplotlib inline"
   ]
  },
  {
   "cell_type": "markdown",
   "metadata": {
    "heading_collapsed": true
   },
   "source": [
    "# Objectives"
   ]
  },
  {
   "cell_type": "markdown",
   "metadata": {
    "hidden": true
   },
   "source": [
    "- Use lambda functions and DataFrame methods to transform data\n",
    "- Handle missing data"
   ]
  },
  {
   "cell_type": "markdown",
   "metadata": {
    "heading_collapsed": true
   },
   "source": [
    "# More Pandas"
   ]
  },
  {
   "cell_type": "markdown",
   "metadata": {
    "hidden": true
   },
   "source": [
    "Suppose you were interested in opening an animal shelter. To inform your planning, it would be useful to analyze data from other shelters to understand their operations. In this lecture, we'll analyze animal outcome data from the Austin Animal Center.  "
   ]
  },
  {
   "cell_type": "markdown",
   "metadata": {
    "heading_collapsed": true,
    "hidden": true
   },
   "source": [
    "## Loading the Data"
   ]
  },
  {
   "cell_type": "markdown",
   "metadata": {
    "hidden": true
   },
   "source": [
    "Let's take a moment to examine the [Austin Animal Center data set](https://data.austintexas.gov/Health-and-Community-Services/Austin-Animal-Center-Outcomes/9t4d-g238/data). \n",
    "\n",
    "We can also ingest the data right off the web, as we do below. The code below will load JSON data for the last 1000 animals to leave the center from this [JSON file](https://data.austintexas.gov/resource/9t4d-g238.json). "
   ]
  },
  {
   "cell_type": "code",
   "execution_count": 2,
   "metadata": {
    "hidden": true
   },
   "outputs": [],
   "source": [
    "json_url = 'https://data.austintexas.gov/resource/9t4d-g238.json'\n",
    "animals = pd.read_json(json_url)"
   ]
  },
  {
   "cell_type": "markdown",
   "metadata": {
    "heading_collapsed": true
   },
   "source": [
    "# Exploratory Data Analysis (EDA)"
   ]
  },
  {
   "cell_type": "markdown",
   "metadata": {
    "hidden": true
   },
   "source": [
    "Exploring a new dataset is essential for understanding what it contains. This will generate ideas for processing the data and questions to try to answer in further analysis."
   ]
  },
  {
   "cell_type": "markdown",
   "metadata": {
    "heading_collapsed": true,
    "hidden": true
   },
   "source": [
    "## Inspecting the Data"
   ]
  },
  {
   "cell_type": "markdown",
   "metadata": {
    "hidden": true
   },
   "source": [
    "Let's take a look at a few rows of data."
   ]
  },
  {
   "cell_type": "code",
   "execution_count": 3,
   "metadata": {
    "hidden": true
   },
   "outputs": [
    {
     "data": {
      "text/html": [
       "<div>\n",
       "<style scoped>\n",
       "    .dataframe tbody tr th:only-of-type {\n",
       "        vertical-align: middle;\n",
       "    }\n",
       "\n",
       "    .dataframe tbody tr th {\n",
       "        vertical-align: top;\n",
       "    }\n",
       "\n",
       "    .dataframe thead th {\n",
       "        text-align: right;\n",
       "    }\n",
       "</style>\n",
       "<table border=\"1\" class=\"dataframe\">\n",
       "  <thead>\n",
       "    <tr style=\"text-align: right;\">\n",
       "      <th></th>\n",
       "      <th>animal_id</th>\n",
       "      <th>datetime</th>\n",
       "      <th>monthyear</th>\n",
       "      <th>date_of_birth</th>\n",
       "      <th>outcome_type</th>\n",
       "      <th>outcome_subtype</th>\n",
       "      <th>animal_type</th>\n",
       "      <th>sex_upon_outcome</th>\n",
       "      <th>age_upon_outcome</th>\n",
       "      <th>breed</th>\n",
       "      <th>color</th>\n",
       "      <th>name</th>\n",
       "    </tr>\n",
       "  </thead>\n",
       "  <tbody>\n",
       "    <tr>\n",
       "      <th>0</th>\n",
       "      <td>A836161</td>\n",
       "      <td>2021-06-11 16:52:00</td>\n",
       "      <td>2021-06-11T16:52:00.000</td>\n",
       "      <td>2021-05-16T00:00:00.000</td>\n",
       "      <td>Transfer</td>\n",
       "      <td>Partner</td>\n",
       "      <td>Dog</td>\n",
       "      <td>Intact Male</td>\n",
       "      <td>3 weeks</td>\n",
       "      <td>American Pit Bull Terrier Mix</td>\n",
       "      <td>Tricolor</td>\n",
       "      <td>NaN</td>\n",
       "    </tr>\n",
       "    <tr>\n",
       "      <th>1</th>\n",
       "      <td>A654946</td>\n",
       "      <td>2021-06-10 18:13:00</td>\n",
       "      <td>2021-06-10T18:13:00.000</td>\n",
       "      <td>2011-05-27T00:00:00.000</td>\n",
       "      <td>Return to Owner</td>\n",
       "      <td>NaN</td>\n",
       "      <td>Dog</td>\n",
       "      <td>Neutered Male</td>\n",
       "      <td>10 years</td>\n",
       "      <td>Chihuahua Shorthair Mix</td>\n",
       "      <td>Brown</td>\n",
       "      <td>Chachi</td>\n",
       "    </tr>\n",
       "    <tr>\n",
       "      <th>2</th>\n",
       "      <td>A801583</td>\n",
       "      <td>2021-06-10 18:02:00</td>\n",
       "      <td>2021-06-10T18:02:00.000</td>\n",
       "      <td>2017-08-06T00:00:00.000</td>\n",
       "      <td>Adoption</td>\n",
       "      <td>NaN</td>\n",
       "      <td>Dog</td>\n",
       "      <td>Spayed Female</td>\n",
       "      <td>3 years</td>\n",
       "      <td>Boxer/Labrador Retriever</td>\n",
       "      <td>Tan/White</td>\n",
       "      <td>Molly</td>\n",
       "    </tr>\n",
       "    <tr>\n",
       "      <th>3</th>\n",
       "      <td>A835490</td>\n",
       "      <td>2021-06-10 17:52:00</td>\n",
       "      <td>2021-06-10T17:52:00.000</td>\n",
       "      <td>2020-11-28T00:00:00.000</td>\n",
       "      <td>Adoption</td>\n",
       "      <td>NaN</td>\n",
       "      <td>Dog</td>\n",
       "      <td>Neutered Male</td>\n",
       "      <td>6 months</td>\n",
       "      <td>Australian Cattle Dog Mix</td>\n",
       "      <td>Tan/Black</td>\n",
       "      <td>*Bow</td>\n",
       "    </tr>\n",
       "    <tr>\n",
       "      <th>4</th>\n",
       "      <td>A836457</td>\n",
       "      <td>2021-06-10 17:47:00</td>\n",
       "      <td>2021-06-10T17:47:00.000</td>\n",
       "      <td>2021-05-10T00:00:00.000</td>\n",
       "      <td>Euthanasia</td>\n",
       "      <td>Suffering</td>\n",
       "      <td>Cat</td>\n",
       "      <td>Unknown</td>\n",
       "      <td>NULL</td>\n",
       "      <td>Domestic Shorthair Mix</td>\n",
       "      <td>Brown Tabby</td>\n",
       "      <td>NaN</td>\n",
       "    </tr>\n",
       "  </tbody>\n",
       "</table>\n",
       "</div>"
      ],
      "text/plain": [
       "  animal_id            datetime                monthyear  \\\n",
       "0   A836161 2021-06-11 16:52:00  2021-06-11T16:52:00.000   \n",
       "1   A654946 2021-06-10 18:13:00  2021-06-10T18:13:00.000   \n",
       "2   A801583 2021-06-10 18:02:00  2021-06-10T18:02:00.000   \n",
       "3   A835490 2021-06-10 17:52:00  2021-06-10T17:52:00.000   \n",
       "4   A836457 2021-06-10 17:47:00  2021-06-10T17:47:00.000   \n",
       "\n",
       "             date_of_birth     outcome_type outcome_subtype animal_type  \\\n",
       "0  2021-05-16T00:00:00.000         Transfer         Partner         Dog   \n",
       "1  2011-05-27T00:00:00.000  Return to Owner             NaN         Dog   \n",
       "2  2017-08-06T00:00:00.000         Adoption             NaN         Dog   \n",
       "3  2020-11-28T00:00:00.000         Adoption             NaN         Dog   \n",
       "4  2021-05-10T00:00:00.000       Euthanasia       Suffering         Cat   \n",
       "\n",
       "  sex_upon_outcome age_upon_outcome                          breed  \\\n",
       "0      Intact Male          3 weeks  American Pit Bull Terrier Mix   \n",
       "1    Neutered Male         10 years        Chihuahua Shorthair Mix   \n",
       "2    Spayed Female          3 years       Boxer/Labrador Retriever   \n",
       "3    Neutered Male         6 months      Australian Cattle Dog Mix   \n",
       "4          Unknown             NULL         Domestic Shorthair Mix   \n",
       "\n",
       "         color    name  \n",
       "0     Tricolor     NaN  \n",
       "1        Brown  Chachi  \n",
       "2    Tan/White   Molly  \n",
       "3    Tan/Black    *Bow  \n",
       "4  Brown Tabby     NaN  "
      ]
     },
     "execution_count": 3,
     "metadata": {},
     "output_type": "execute_result"
    }
   ],
   "source": [
    "animals.head()"
   ]
  },
  {
   "cell_type": "markdown",
   "metadata": {
    "hidden": true
   },
   "source": [
    "The `info()` and `describe()` provide a useful overview of the data."
   ]
  },
  {
   "cell_type": "code",
   "execution_count": 4,
   "metadata": {
    "hidden": true
   },
   "outputs": [
    {
     "name": "stdout",
     "output_type": "stream",
     "text": [
      "<class 'pandas.core.frame.DataFrame'>\n",
      "RangeIndex: 1000 entries, 0 to 999\n",
      "Data columns (total 12 columns):\n",
      " #   Column            Non-Null Count  Dtype         \n",
      "---  ------            --------------  -----         \n",
      " 0   animal_id         1000 non-null   object        \n",
      " 1   datetime          1000 non-null   datetime64[ns]\n",
      " 2   monthyear         1000 non-null   object        \n",
      " 3   date_of_birth     1000 non-null   object        \n",
      " 4   outcome_type      1000 non-null   object        \n",
      " 5   outcome_subtype   494 non-null    object        \n",
      " 6   animal_type       1000 non-null   object        \n",
      " 7   sex_upon_outcome  1000 non-null   object        \n",
      " 8   age_upon_outcome  1000 non-null   object        \n",
      " 9   breed             1000 non-null   object        \n",
      " 10  color             1000 non-null   object        \n",
      " 11  name              738 non-null    object        \n",
      "dtypes: datetime64[ns](1), object(11)\n",
      "memory usage: 93.9+ KB\n"
     ]
    }
   ],
   "source": [
    "animals.info()"
   ]
  },
  {
   "cell_type": "markdown",
   "metadata": {
    "hidden": true
   },
   "source": [
    "> We can see we have some missing data. Specifically in the `outcome_type`, `outcome_subtype`, and `name` columns."
   ]
  },
  {
   "cell_type": "code",
   "execution_count": 8,
   "metadata": {
    "hidden": true
   },
   "outputs": [
    {
     "name": "stderr",
     "output_type": "stream",
     "text": [
      "<ipython-input-8-3885fd60d0c1>:1: FutureWarning: Treating datetime data as categorical rather than numeric in `.describe` is deprecated and will be removed in a future version of pandas. Specify `datetime_is_numeric=True` to silence this warning and adopt the future behavior now.\n",
      "  animals.describe()\n"
     ]
    },
    {
     "data": {
      "text/html": [
       "<div>\n",
       "<style scoped>\n",
       "    .dataframe tbody tr th:only-of-type {\n",
       "        vertical-align: middle;\n",
       "    }\n",
       "\n",
       "    .dataframe tbody tr th {\n",
       "        vertical-align: top;\n",
       "    }\n",
       "\n",
       "    .dataframe thead th {\n",
       "        text-align: right;\n",
       "    }\n",
       "</style>\n",
       "<table border=\"1\" class=\"dataframe\">\n",
       "  <thead>\n",
       "    <tr style=\"text-align: right;\">\n",
       "      <th></th>\n",
       "      <th>animal_id</th>\n",
       "      <th>datetime</th>\n",
       "      <th>monthyear</th>\n",
       "      <th>date_of_birth</th>\n",
       "      <th>outcome_type</th>\n",
       "      <th>outcome_subtype</th>\n",
       "      <th>animal_type</th>\n",
       "      <th>sex_upon_outcome</th>\n",
       "      <th>age_upon_outcome</th>\n",
       "      <th>breed</th>\n",
       "      <th>color</th>\n",
       "      <th>name</th>\n",
       "    </tr>\n",
       "  </thead>\n",
       "  <tbody>\n",
       "    <tr>\n",
       "      <th>count</th>\n",
       "      <td>1000</td>\n",
       "      <td>1000</td>\n",
       "      <td>1000</td>\n",
       "      <td>1000</td>\n",
       "      <td>1000</td>\n",
       "      <td>494</td>\n",
       "      <td>1000</td>\n",
       "      <td>1000</td>\n",
       "      <td>1000</td>\n",
       "      <td>1000</td>\n",
       "      <td>1000</td>\n",
       "      <td>738</td>\n",
       "    </tr>\n",
       "    <tr>\n",
       "      <th>unique</th>\n",
       "      <td>987</td>\n",
       "      <td>865</td>\n",
       "      <td>865</td>\n",
       "      <td>489</td>\n",
       "      <td>7</td>\n",
       "      <td>14</td>\n",
       "      <td>4</td>\n",
       "      <td>5</td>\n",
       "      <td>41</td>\n",
       "      <td>200</td>\n",
       "      <td>116</td>\n",
       "      <td>666</td>\n",
       "    </tr>\n",
       "    <tr>\n",
       "      <th>top</th>\n",
       "      <td>A833965</td>\n",
       "      <td>2021-06-01 17:40:00</td>\n",
       "      <td>2021-06-01T17:40:00.000</td>\n",
       "      <td>2021-03-21T00:00:00.000</td>\n",
       "      <td>Adoption</td>\n",
       "      <td>Partner</td>\n",
       "      <td>Cat</td>\n",
       "      <td>Neutered Male</td>\n",
       "      <td>2 years</td>\n",
       "      <td>Domestic Shorthair</td>\n",
       "      <td>Black</td>\n",
       "      <td>Luna</td>\n",
       "    </tr>\n",
       "    <tr>\n",
       "      <th>freq</th>\n",
       "      <td>3</td>\n",
       "      <td>7</td>\n",
       "      <td>7</td>\n",
       "      <td>18</td>\n",
       "      <td>525</td>\n",
       "      <td>273</td>\n",
       "      <td>488</td>\n",
       "      <td>363</td>\n",
       "      <td>158</td>\n",
       "      <td>357</td>\n",
       "      <td>111</td>\n",
       "      <td>5</td>\n",
       "    </tr>\n",
       "    <tr>\n",
       "      <th>first</th>\n",
       "      <td>NaN</td>\n",
       "      <td>2021-05-10 17:17:00</td>\n",
       "      <td>NaN</td>\n",
       "      <td>NaN</td>\n",
       "      <td>NaN</td>\n",
       "      <td>NaN</td>\n",
       "      <td>NaN</td>\n",
       "      <td>NaN</td>\n",
       "      <td>NaN</td>\n",
       "      <td>NaN</td>\n",
       "      <td>NaN</td>\n",
       "      <td>NaN</td>\n",
       "    </tr>\n",
       "    <tr>\n",
       "      <th>last</th>\n",
       "      <td>NaN</td>\n",
       "      <td>2021-06-11 16:52:00</td>\n",
       "      <td>NaN</td>\n",
       "      <td>NaN</td>\n",
       "      <td>NaN</td>\n",
       "      <td>NaN</td>\n",
       "      <td>NaN</td>\n",
       "      <td>NaN</td>\n",
       "      <td>NaN</td>\n",
       "      <td>NaN</td>\n",
       "      <td>NaN</td>\n",
       "      <td>NaN</td>\n",
       "    </tr>\n",
       "  </tbody>\n",
       "</table>\n",
       "</div>"
      ],
      "text/plain": [
       "       animal_id             datetime                monthyear  \\\n",
       "count       1000                 1000                     1000   \n",
       "unique       987                  865                      865   \n",
       "top      A833965  2021-06-01 17:40:00  2021-06-01T17:40:00.000   \n",
       "freq           3                    7                        7   \n",
       "first        NaN  2021-05-10 17:17:00                      NaN   \n",
       "last         NaN  2021-06-11 16:52:00                      NaN   \n",
       "\n",
       "                  date_of_birth outcome_type outcome_subtype animal_type  \\\n",
       "count                      1000         1000             494        1000   \n",
       "unique                      489            7              14           4   \n",
       "top     2021-03-21T00:00:00.000     Adoption         Partner         Cat   \n",
       "freq                         18          525             273         488   \n",
       "first                       NaN          NaN             NaN         NaN   \n",
       "last                        NaN          NaN             NaN         NaN   \n",
       "\n",
       "       sex_upon_outcome age_upon_outcome               breed  color  name  \n",
       "count              1000             1000                1000   1000   738  \n",
       "unique                5               41                 200    116   666  \n",
       "top       Neutered Male          2 years  Domestic Shorthair  Black  Luna  \n",
       "freq                363              158                 357    111     5  \n",
       "first               NaN              NaN                 NaN    NaN   NaN  \n",
       "last                NaN              NaN                 NaN    NaN   NaN  "
      ]
     },
     "execution_count": 8,
     "metadata": {},
     "output_type": "execute_result"
    }
   ],
   "source": [
    "animals.describe()"
   ]
  },
  {
   "cell_type": "code",
   "execution_count": 9,
   "metadata": {
    "hidden": true
   },
   "outputs": [
    {
     "data": {
      "text/plain": [
       "Black                111\n",
       "Black/White           89\n",
       "Brown Tabby           68\n",
       "Brown                 40\n",
       "White                 40\n",
       "                    ... \n",
       "Sable/Tan              1\n",
       "White/Orange           1\n",
       "Brown Tabby/Black      1\n",
       "Green/Gold             1\n",
       "Red/Black              1\n",
       "Name: color, Length: 116, dtype: int64"
      ]
     },
     "execution_count": 9,
     "metadata": {},
     "output_type": "execute_result"
    }
   ],
   "source": [
    "# Use value counts to check a categorical feature's distribution\n",
    "\n",
    "animals['color'].value_counts()"
   ]
  },
  {
   "cell_type": "markdown",
   "metadata": {
    "hidden": true
   },
   "source": [
    "Now that we have a sense of the data available to us, we can focus in on some more specific questions to dig into. These questions may or may not be directly relevant to your goal (e.g. helping plan a new shelter), but will always help you gain a better understanding of your data.\n",
    "\n",
    "In your EDA notebooks, **markdown** will be especially helpful in tracking these questions and your methods of answering the questions.  "
   ]
  },
  {
   "cell_type": "markdown",
   "metadata": {
    "heading_collapsed": true,
    "hidden": true
   },
   "source": [
    "## Question 1: What animal types are in the dataset?"
   ]
  },
  {
   "cell_type": "markdown",
   "metadata": {
    "hidden": true
   },
   "source": [
    "We can then begin thinking about what parts of the DataFrame we need to answer the question."
   ]
  },
  {
   "cell_type": "markdown",
   "metadata": {
    "hidden": true
   },
   "source": [
    "* What features do we need?\n",
    " - \"animal_type\"\n",
    "* What type of logic and calculation do we perform?\n",
    " - Let's use `.value_counts()` to count the different animal types\n",
    "* What type of visualization would help us answer the question?\n",
    " - A bar chart would be good for this purpose"
   ]
  },
  {
   "cell_type": "code",
   "execution_count": 10,
   "metadata": {
    "hidden": true
   },
   "outputs": [
    {
     "data": {
      "text/plain": [
       "Cat      488\n",
       "Dog      470\n",
       "Other     37\n",
       "Bird       5\n",
       "Name: animal_type, dtype: int64"
      ]
     },
     "execution_count": 10,
     "metadata": {},
     "output_type": "execute_result"
    }
   ],
   "source": [
    "animals['animal_type'].value_counts()"
   ]
  },
  {
   "cell_type": "code",
   "execution_count": 11,
   "metadata": {
    "hidden": true
   },
   "outputs": [
    {
     "data": {
      "image/png": "[encoded data removed]",
      "text/plain": [
       "<Figure size 432x288 with 1 Axes>"
      ]
     },
     "metadata": {
      "needs_background": "light"
     },
     "output_type": "display_data"
    }
   ],
   "source": [
    "fig, ax = plt.subplots()\n",
    "\n",
    "animal_type_values = animals['animal_type'].value_counts()\n",
    "\n",
    "ax.barh(\n",
    "    y=animal_type_values.index,\n",
    "    width=animal_type_values.values\n",
    ")\n",
    "ax.set_xlabel('count');"
   ]
  },
  {
   "cell_type": "code",
   "execution_count": 12,
   "metadata": {
    "hidden": true
   },
   "outputs": [
    {
     "data": {
      "text/plain": [
       "<AxesSubplot:>"
      ]
     },
     "execution_count": 12,
     "metadata": {},
     "output_type": "execute_result"
    },
    {
     "data": {
      "image/png": "[encoded data removed]",
      "text/plain": [
       "<Figure size 432x288 with 1 Axes>"
      ]
     },
     "metadata": {
      "needs_background": "light"
     },
     "output_type": "display_data"
    }
   ],
   "source": [
    "animals['animal_type'].hist()"
   ]
  },
  {
   "cell_type": "markdown",
   "metadata": {
    "hidden": true
   },
   "source": [
    "Questions lead to other questions. For the above example, the visualization raises the question..."
   ]
  },
  {
   "cell_type": "markdown",
   "metadata": {
    "heading_collapsed": true,
    "hidden": true
   },
   "source": [
    "## Question 2: What \"Other\" animals are in the dataset?"
   ]
  },
  {
   "cell_type": "markdown",
   "metadata": {
    "hidden": true
   },
   "source": [
    "To find out, we need to know whether the type of animal for \"Other\" is in our dataset - and if so, where to find it.   "
   ]
  },
  {
   "cell_type": "markdown",
   "metadata": {
    "hidden": true
   },
   "source": [
    "**Discussion**: Where might we look to find animal types within the Other category?\n",
    "\n",
    "<details>\n",
    "    <summary>\n",
    "        Answer\n",
    "    </summary>\n",
    "        The breed column.\n",
    "</details>"
   ]
  },
  {
   "cell_type": "code",
   "execution_count": 13,
   "metadata": {
    "hidden": true
   },
   "outputs": [
    {
     "data": {
      "text/plain": [
       "Domestic Shorthair                        357\n",
       "Domestic Shorthair Mix                     71\n",
       "Pit Bull                                   36\n",
       "Labrador Retriever                         29\n",
       "Pit Bull Mix                               27\n",
       "                                         ... \n",
       "Labrador Retriever/Border Collie            1\n",
       "Quail                                       1\n",
       "Pointer/Rat Terrier                         1\n",
       "Miniature Schnauzer/Labrador Retriever      1\n",
       "Boston Terrier Mix                          1\n",
       "Name: breed, Length: 200, dtype: int64"
      ]
     },
     "execution_count": 13,
     "metadata": {},
     "output_type": "execute_result"
    }
   ],
   "source": [
    "# Your exploration here\n",
    "animals['breed'].value_counts()"
   ]
  },
  {
   "cell_type": "markdown",
   "metadata": {
    "hidden": true
   },
   "source": [
    "Let's use that column to answer our question."
   ]
  },
  {
   "cell_type": "code",
   "execution_count": 15,
   "metadata": {
    "hidden": true
   },
   "outputs": [
    {
     "data": {
      "text/plain": [
       "Bat            8\n",
       "Rat            7\n",
       "Raccoon        5\n",
       "Guinea Pig     3\n",
       "Skunk          2\n",
       "Rabbit Sh      2\n",
       "Fox            2\n",
       "Opossum        2\n",
       "Turtle         2\n",
       "Armadillo      1\n",
       "Hedgehog       1\n",
       "Californian    1\n",
       "Rabbit Lh      1\n",
       "Name: breed, dtype: int64"
      ]
     },
     "execution_count": 15,
     "metadata": {},
     "output_type": "execute_result"
    }
   ],
   "source": [
    "mask_other_animals = animals['animal_type'] == 'Other'\n",
    "animals[mask_other_animals]['breed'].value_counts()"
   ]
  },
  {
   "cell_type": "markdown",
   "metadata": {
    "heading_collapsed": true,
    "hidden": true
   },
   "source": [
    "## Question 3: How old are the animals in our dataset?"
   ]
  },
  {
   "cell_type": "markdown",
   "metadata": {
    "hidden": true
   },
   "source": [
    "Let's try to answer this with the `age_upon_outcome` variable to learn some new `pandas` tools."
   ]
  },
  {
   "cell_type": "code",
   "execution_count": 16,
   "metadata": {
    "hidden": true
   },
   "outputs": [
    {
     "data": {
      "text/plain": [
       "2 years      158\n",
       "2 months     157\n",
       "1 year       134\n",
       "1 month       86\n",
       "3 weeks       52\n",
       "3 years       46\n",
       "5 years       36\n",
       "2 weeks       24\n",
       "4 years       22\n",
       "6 months      21\n",
       "3 months      21\n",
       "1 week        19\n",
       "8 years       19\n",
       "7 years       16\n",
       "4 months      13\n",
       "10 years      13\n",
       "10 months     12\n",
       "6 years       12\n",
       "9 months      12\n",
       "8 months      11\n",
       "7 months      10\n",
       "5 months      10\n",
       "3 days        10\n",
       "4 weeks       10\n",
       "1 weeks        9\n",
       "9 years        8\n",
       "5 weeks        7\n",
       "12 years       6\n",
       "NULL           6\n",
       "2 days         6\n",
       "16 years       6\n",
       "11 months      5\n",
       "6 days         5\n",
       "11 years       4\n",
       "13 years       4\n",
       "1 day          3\n",
       "17 years       2\n",
       "14 years       2\n",
       "4 days         1\n",
       "0 years        1\n",
       "15 years       1\n",
       "Name: age_upon_outcome, dtype: int64"
      ]
     },
     "execution_count": 16,
     "metadata": {},
     "output_type": "execute_result"
    }
   ],
   "source": [
    "animals['age_upon_outcome'].value_counts()"
   ]
  },
  {
   "cell_type": "markdown",
   "metadata": {
    "heading_collapsed": true,
    "hidden": true
   },
   "source": [
    "### `Series.map()`"
   ]
  },
  {
   "cell_type": "markdown",
   "metadata": {
    "hidden": true
   },
   "source": [
    "The `.map()` method applies a transformation to every entry in the Series. This transformation  \"maps\" each value from the Series to a new value. A transformation can be defined by a function, Series, or dictionary - usually we'll use functions."
   ]
  },
  {
   "cell_type": "markdown",
   "metadata": {
    "hidden": true
   },
   "source": [
    "The `.apply()` method is similar to the `.map()` method for Series, but can only use functions. It has more powerful uses when working with DataFrames."
   ]
  },
  {
   "cell_type": "code",
   "execution_count": 17,
   "metadata": {
    "hidden": true
   },
   "outputs": [],
   "source": [
    "def one_year(age):\n",
    "    if age == '1 year':\n",
    "        return '1 years'\n",
    "    else:\n",
    "        return age"
   ]
  },
  {
   "cell_type": "code",
   "execution_count": 18,
   "metadata": {
    "hidden": true,
    "scrolled": true
   },
   "outputs": [
    {
     "data": {
      "text/plain": [
       "2 years      158\n",
       "2 months     157\n",
       "1 years      134\n",
       "1 month       86\n",
       "3 weeks       52\n",
       "3 years       46\n",
       "5 years       36\n",
       "2 weeks       24\n",
       "4 years       22\n",
       "3 months      21\n",
       "6 months      21\n",
       "8 years       19\n",
       "1 week        19\n",
       "7 years       16\n",
       "4 months      13\n",
       "10 years      13\n",
       "6 years       12\n",
       "10 months     12\n",
       "9 months      12\n",
       "8 months      11\n",
       "3 days        10\n",
       "5 months      10\n",
       "4 weeks       10\n",
       "7 months      10\n",
       "1 weeks        9\n",
       "9 years        8\n",
       "5 weeks        7\n",
       "16 years       6\n",
       "NULL           6\n",
       "12 years       6\n",
       "2 days         6\n",
       "6 days         5\n",
       "11 months      5\n",
       "13 years       4\n",
       "11 years       4\n",
       "1 day          3\n",
       "14 years       2\n",
       "17 years       2\n",
       "4 days         1\n",
       "0 years        1\n",
       "15 years       1\n",
       "Name: new_age1, dtype: int64"
      ]
     },
     "execution_count": 18,
     "metadata": {},
     "output_type": "execute_result"
    }
   ],
   "source": [
    "animals['new_age1'] = animals['age_upon_outcome'].map(one_year)\n",
    "animals['new_age1'].value_counts()"
   ]
  },
  {
   "cell_type": "markdown",
   "metadata": {
    "heading_collapsed": true,
    "hidden": true
   },
   "source": [
    "### More Sophisticated Mapping"
   ]
  },
  {
   "cell_type": "markdown",
   "metadata": {
    "hidden": true
   },
   "source": [
    "Let's use `.map()` to turn sex_upon_outcome into a category with three values (called **ternary**): male, female, or unknown. "
   ]
  },
  {
   "cell_type": "markdown",
   "metadata": {
    "hidden": true
   },
   "source": [
    "First, explore the unique values:"
   ]
  },
  {
   "cell_type": "code",
   "execution_count": 19,
   "metadata": {
    "hidden": true
   },
   "outputs": [
    {
     "data": {
      "text/plain": [
       "array(['Intact Male', 'Neutered Male', 'Spayed Female', 'Unknown',\n",
       "       'Intact Female'], dtype=object)"
      ]
     },
     "execution_count": 19,
     "metadata": {},
     "output_type": "execute_result"
    }
   ],
   "source": [
    "animals['sex_upon_outcome'].unique()"
   ]
  },
  {
   "cell_type": "code",
   "execution_count": 20,
   "metadata": {
    "hidden": true
   },
   "outputs": [],
   "source": [
    "def sex_mapper(status):\n",
    "    if status in ['Neutered Male', 'Intact Male']:\n",
    "        return 'Male'\n",
    "    elif status in ['Spayed Female', 'Intact Female']:\n",
    "        return 'Female'\n",
    "    else:\n",
    "        return 'Unknown'"
   ]
  },
  {
   "cell_type": "code",
   "execution_count": 21,
   "metadata": {
    "hidden": true
   },
   "outputs": [
    {
     "data": {
      "text/plain": [
       "0         Male\n",
       "1         Male\n",
       "2       Female\n",
       "3         Male\n",
       "4      Unknown\n",
       "        ...   \n",
       "995       Male\n",
       "996     Female\n",
       "997       Male\n",
       "998     Female\n",
       "999       Male\n",
       "Name: new_sex1, Length: 1000, dtype: object"
      ]
     },
     "execution_count": 21,
     "metadata": {},
     "output_type": "execute_result"
    }
   ],
   "source": [
    "animals['new_sex1'] = animals['sex_upon_outcome'].map(sex_mapper)\n",
    "animals['new_sex1']"
   ]
  },
  {
   "cell_type": "markdown",
   "metadata": {
    "heading_collapsed": true,
    "hidden": true
   },
   "source": [
    "### Lambda Functions"
   ]
  },
  {
   "cell_type": "markdown",
   "metadata": {
    "hidden": true
   },
   "source": [
    "Simple functions can be defined just when you need them, when you would call the function. These are called **lambda functions**. These functions are **anonymous** and disappear immediately after use."
   ]
  },
  {
   "cell_type": "markdown",
   "metadata": {
    "hidden": true
   },
   "source": [
    "Let's use a lambda function to get rid of 'Other' in the \"animal_type' column."
   ]
  },
  {
   "cell_type": "code",
   "execution_count": 22,
   "metadata": {
    "hidden": true
   },
   "outputs": [
    {
     "data": {
      "text/html": [
       "<div>\n",
       "<style scoped>\n",
       "    .dataframe tbody tr th:only-of-type {\n",
       "        vertical-align: middle;\n",
       "    }\n",
       "\n",
       "    .dataframe tbody tr th {\n",
       "        vertical-align: top;\n",
       "    }\n",
       "\n",
       "    .dataframe thead th {\n",
       "        text-align: right;\n",
       "    }\n",
       "</style>\n",
       "<table border=\"1\" class=\"dataframe\">\n",
       "  <thead>\n",
       "    <tr style=\"text-align: right;\">\n",
       "      <th></th>\n",
       "      <th>animal_id</th>\n",
       "      <th>datetime</th>\n",
       "      <th>monthyear</th>\n",
       "      <th>date_of_birth</th>\n",
       "      <th>outcome_type</th>\n",
       "      <th>outcome_subtype</th>\n",
       "      <th>animal_type</th>\n",
       "      <th>sex_upon_outcome</th>\n",
       "      <th>age_upon_outcome</th>\n",
       "      <th>breed</th>\n",
       "      <th>color</th>\n",
       "      <th>name</th>\n",
       "      <th>new_age1</th>\n",
       "      <th>new_sex1</th>\n",
       "    </tr>\n",
       "  </thead>\n",
       "  <tbody>\n",
       "    <tr>\n",
       "      <th>21</th>\n",
       "      <td>A836433</td>\n",
       "      <td>2021-06-10 11:56:00</td>\n",
       "      <td>2021-06-10T11:56:00.000</td>\n",
       "      <td>2021-04-10T00:00:00.000</td>\n",
       "      <td>Died</td>\n",
       "      <td>Enroute</td>\n",
       "      <td>Other</td>\n",
       "      <td>Unknown</td>\n",
       "      <td>1 month</td>\n",
       "      <td>Raccoon</td>\n",
       "      <td>Black/Gray</td>\n",
       "      <td>NaN</td>\n",
       "      <td>1 month</td>\n",
       "      <td>Unknown</td>\n",
       "    </tr>\n",
       "    <tr>\n",
       "      <th>73</th>\n",
       "      <td>A836254</td>\n",
       "      <td>2021-06-09 09:41:00</td>\n",
       "      <td>2021-06-09T09:41:00.000</td>\n",
       "      <td>2021-02-08T00:00:00.000</td>\n",
       "      <td>Euthanasia</td>\n",
       "      <td>Rabies Risk</td>\n",
       "      <td>Other</td>\n",
       "      <td>Unknown</td>\n",
       "      <td>3 months</td>\n",
       "      <td>Raccoon</td>\n",
       "      <td>Gray/Black</td>\n",
       "      <td>NaN</td>\n",
       "      <td>3 months</td>\n",
       "      <td>Unknown</td>\n",
       "    </tr>\n",
       "    <tr>\n",
       "      <th>74</th>\n",
       "      <td>A836249</td>\n",
       "      <td>2021-06-09 09:37:00</td>\n",
       "      <td>2021-06-09T09:37:00.000</td>\n",
       "      <td>2020-12-08T00:00:00.000</td>\n",
       "      <td>Euthanasia</td>\n",
       "      <td>Rabies Risk</td>\n",
       "      <td>Other</td>\n",
       "      <td>Unknown</td>\n",
       "      <td>6 months</td>\n",
       "      <td>Raccoon</td>\n",
       "      <td>Gray/Black</td>\n",
       "      <td>NaN</td>\n",
       "      <td>6 months</td>\n",
       "      <td>Unknown</td>\n",
       "    </tr>\n",
       "    <tr>\n",
       "      <th>118</th>\n",
       "      <td>A835483</td>\n",
       "      <td>2021-06-08 10:39:00</td>\n",
       "      <td>2021-06-08T10:39:00.000</td>\n",
       "      <td>2020-09-28T00:00:00.000</td>\n",
       "      <td>Euthanasia</td>\n",
       "      <td>Rabies Risk</td>\n",
       "      <td>Other</td>\n",
       "      <td>Unknown</td>\n",
       "      <td>8 months</td>\n",
       "      <td>Raccoon</td>\n",
       "      <td>Brown/Black</td>\n",
       "      <td>NaN</td>\n",
       "      <td>8 months</td>\n",
       "      <td>Unknown</td>\n",
       "    </tr>\n",
       "    <tr>\n",
       "      <th>176</th>\n",
       "      <td>A835997</td>\n",
       "      <td>2021-06-06 17:07:00</td>\n",
       "      <td>2021-06-06T17:07:00.000</td>\n",
       "      <td>2020-10-04T00:00:00.000</td>\n",
       "      <td>Adoption</td>\n",
       "      <td>NaN</td>\n",
       "      <td>Other</td>\n",
       "      <td>Intact Male</td>\n",
       "      <td>8 months</td>\n",
       "      <td>Guinea Pig</td>\n",
       "      <td>Tricolor</td>\n",
       "      <td>Choppa</td>\n",
       "      <td>8 months</td>\n",
       "      <td>Male</td>\n",
       "    </tr>\n",
       "    <tr>\n",
       "      <th>200</th>\n",
       "      <td>A836075</td>\n",
       "      <td>2021-06-06 10:04:00</td>\n",
       "      <td>2021-06-06T10:04:00.000</td>\n",
       "      <td>2019-06-05T00:00:00.000</td>\n",
       "      <td>Euthanasia</td>\n",
       "      <td>Rabies Risk</td>\n",
       "      <td>Other</td>\n",
       "      <td>Unknown</td>\n",
       "      <td>2 years</td>\n",
       "      <td>Raccoon</td>\n",
       "      <td>Brown/Black</td>\n",
       "      <td>NaN</td>\n",
       "      <td>2 years</td>\n",
       "      <td>Unknown</td>\n",
       "    </tr>\n",
       "    <tr>\n",
       "      <th>201</th>\n",
       "      <td>A836068</td>\n",
       "      <td>2021-06-06 10:00:00</td>\n",
       "      <td>2021-06-06T10:00:00.000</td>\n",
       "      <td>2019-06-05T00:00:00.000</td>\n",
       "      <td>Euthanasia</td>\n",
       "      <td>Rabies Risk</td>\n",
       "      <td>Other</td>\n",
       "      <td>Unknown</td>\n",
       "      <td>2 years</td>\n",
       "      <td>Fox</td>\n",
       "      <td>Brown</td>\n",
       "      <td>NaN</td>\n",
       "      <td>2 years</td>\n",
       "      <td>Unknown</td>\n",
       "    </tr>\n",
       "    <tr>\n",
       "      <th>246</th>\n",
       "      <td>A835950</td>\n",
       "      <td>2021-06-04 17:38:00</td>\n",
       "      <td>2021-06-04T17:38:00.000</td>\n",
       "      <td>2019-12-03T00:00:00.000</td>\n",
       "      <td>Adoption</td>\n",
       "      <td>NaN</td>\n",
       "      <td>Other</td>\n",
       "      <td>Intact Female</td>\n",
       "      <td>1 year</td>\n",
       "      <td>Rabbit Sh</td>\n",
       "      <td>Gray</td>\n",
       "      <td>*Banana</td>\n",
       "      <td>1 years</td>\n",
       "      <td>Female</td>\n",
       "    </tr>\n",
       "    <tr>\n",
       "      <th>317</th>\n",
       "      <td>A835883</td>\n",
       "      <td>2021-06-03 07:35:00</td>\n",
       "      <td>2021-06-03T07:35:00.000</td>\n",
       "      <td>2019-06-02T00:00:00.000</td>\n",
       "      <td>Euthanasia</td>\n",
       "      <td>Rabies Risk</td>\n",
       "      <td>Other</td>\n",
       "      <td>Unknown</td>\n",
       "      <td>2 years</td>\n",
       "      <td>Bat</td>\n",
       "      <td>Brown/Brown</td>\n",
       "      <td>NaN</td>\n",
       "      <td>2 years</td>\n",
       "      <td>Unknown</td>\n",
       "    </tr>\n",
       "    <tr>\n",
       "      <th>345</th>\n",
       "      <td>A835802</td>\n",
       "      <td>2021-06-02 11:18:00</td>\n",
       "      <td>2021-06-02T11:18:00.000</td>\n",
       "      <td>2020-06-01T00:00:00.000</td>\n",
       "      <td>Euthanasia</td>\n",
       "      <td>Rabies Risk</td>\n",
       "      <td>Other</td>\n",
       "      <td>Unknown</td>\n",
       "      <td>1 year</td>\n",
       "      <td>Bat</td>\n",
       "      <td>Brown</td>\n",
       "      <td>NaN</td>\n",
       "      <td>1 years</td>\n",
       "      <td>Unknown</td>\n",
       "    </tr>\n",
       "    <tr>\n",
       "      <th>444</th>\n",
       "      <td>A835323</td>\n",
       "      <td>2021-05-29 11:37:00</td>\n",
       "      <td>2021-05-29T11:37:00.000</td>\n",
       "      <td>2019-05-26T00:00:00.000</td>\n",
       "      <td>Adoption</td>\n",
       "      <td>NaN</td>\n",
       "      <td>Other</td>\n",
       "      <td>Intact Female</td>\n",
       "      <td>2 years</td>\n",
       "      <td>Guinea Pig</td>\n",
       "      <td>Tricolor</td>\n",
       "      <td>Muffin</td>\n",
       "      <td>2 years</td>\n",
       "      <td>Female</td>\n",
       "    </tr>\n",
       "    <tr>\n",
       "      <th>446</th>\n",
       "      <td>A835319</td>\n",
       "      <td>2021-05-29 11:19:00</td>\n",
       "      <td>2021-05-29T11:19:00.000</td>\n",
       "      <td>2020-05-26T00:00:00.000</td>\n",
       "      <td>Adoption</td>\n",
       "      <td>NaN</td>\n",
       "      <td>Other</td>\n",
       "      <td>Unknown</td>\n",
       "      <td>1 year</td>\n",
       "      <td>Turtle</td>\n",
       "      <td>Green</td>\n",
       "      <td>*Leonard</td>\n",
       "      <td>1 years</td>\n",
       "      <td>Unknown</td>\n",
       "    </tr>\n",
       "    <tr>\n",
       "      <th>516</th>\n",
       "      <td>A835056</td>\n",
       "      <td>2021-05-27 10:45:00</td>\n",
       "      <td>2021-05-27T10:45:00.000</td>\n",
       "      <td>2020-05-22T00:00:00.000</td>\n",
       "      <td>Transfer</td>\n",
       "      <td>Partner</td>\n",
       "      <td>Other</td>\n",
       "      <td>Unknown</td>\n",
       "      <td>1 year</td>\n",
       "      <td>Hedgehog</td>\n",
       "      <td>Brown</td>\n",
       "      <td>NaN</td>\n",
       "      <td>1 years</td>\n",
       "      <td>Unknown</td>\n",
       "    </tr>\n",
       "    <tr>\n",
       "      <th>519</th>\n",
       "      <td>A835377</td>\n",
       "      <td>2021-05-27 09:24:00</td>\n",
       "      <td>2021-05-27T09:24:00.000</td>\n",
       "      <td>2020-05-27T00:00:00.000</td>\n",
       "      <td>Euthanasia</td>\n",
       "      <td>Suffering</td>\n",
       "      <td>Other</td>\n",
       "      <td>Intact Male</td>\n",
       "      <td>1 year</td>\n",
       "      <td>Opossum</td>\n",
       "      <td>Gray/White</td>\n",
       "      <td>NaN</td>\n",
       "      <td>1 years</td>\n",
       "      <td>Male</td>\n",
       "    </tr>\n",
       "    <tr>\n",
       "      <th>592</th>\n",
       "      <td>A835038</td>\n",
       "      <td>2021-05-25 09:41:00</td>\n",
       "      <td>2021-05-25T09:41:00.000</td>\n",
       "      <td>2019-05-21T00:00:00.000</td>\n",
       "      <td>Died</td>\n",
       "      <td>At Vet</td>\n",
       "      <td>Other</td>\n",
       "      <td>Unknown</td>\n",
       "      <td>2 years</td>\n",
       "      <td>Turtle</td>\n",
       "      <td>Green/Gold</td>\n",
       "      <td>NaN</td>\n",
       "      <td>2 years</td>\n",
       "      <td>Unknown</td>\n",
       "    </tr>\n",
       "    <tr>\n",
       "      <th>607</th>\n",
       "      <td>A835017</td>\n",
       "      <td>2021-05-24 16:10:00</td>\n",
       "      <td>2021-05-24T16:10:00.000</td>\n",
       "      <td>2020-11-21T00:00:00.000</td>\n",
       "      <td>Transfer</td>\n",
       "      <td>Partner</td>\n",
       "      <td>Other</td>\n",
       "      <td>Intact Male</td>\n",
       "      <td>6 months</td>\n",
       "      <td>Rat</td>\n",
       "      <td>Black</td>\n",
       "      <td>*Harry</td>\n",
       "      <td>6 months</td>\n",
       "      <td>Male</td>\n",
       "    </tr>\n",
       "    <tr>\n",
       "      <th>608</th>\n",
       "      <td>A835016</td>\n",
       "      <td>2021-05-24 16:09:00</td>\n",
       "      <td>2021-05-24T16:09:00.000</td>\n",
       "      <td>2020-11-21T00:00:00.000</td>\n",
       "      <td>Transfer</td>\n",
       "      <td>Partner</td>\n",
       "      <td>Other</td>\n",
       "      <td>Intact Male</td>\n",
       "      <td>6 months</td>\n",
       "      <td>Rat</td>\n",
       "      <td>Black/White</td>\n",
       "      <td>*Louis</td>\n",
       "      <td>6 months</td>\n",
       "      <td>Male</td>\n",
       "    </tr>\n",
       "    <tr>\n",
       "      <th>609</th>\n",
       "      <td>A835015</td>\n",
       "      <td>2021-05-24 16:09:00</td>\n",
       "      <td>2021-05-24T16:09:00.000</td>\n",
       "      <td>2020-11-21T00:00:00.000</td>\n",
       "      <td>Transfer</td>\n",
       "      <td>Partner</td>\n",
       "      <td>Other</td>\n",
       "      <td>Intact Male</td>\n",
       "      <td>6 months</td>\n",
       "      <td>Rat</td>\n",
       "      <td>Black/White</td>\n",
       "      <td>*Liam</td>\n",
       "      <td>6 months</td>\n",
       "      <td>Male</td>\n",
       "    </tr>\n",
       "    <tr>\n",
       "      <th>610</th>\n",
       "      <td>A835014</td>\n",
       "      <td>2021-05-24 15:15:00</td>\n",
       "      <td>2021-05-24T15:15:00.000</td>\n",
       "      <td>2020-11-21T00:00:00.000</td>\n",
       "      <td>Transfer</td>\n",
       "      <td>Partner</td>\n",
       "      <td>Other</td>\n",
       "      <td>Intact Male</td>\n",
       "      <td>6 months</td>\n",
       "      <td>Rat</td>\n",
       "      <td>Black/White</td>\n",
       "      <td>*Niall</td>\n",
       "      <td>6 months</td>\n",
       "      <td>Male</td>\n",
       "    </tr>\n",
       "    <tr>\n",
       "      <th>611</th>\n",
       "      <td>A835013</td>\n",
       "      <td>2021-05-24 15:15:00</td>\n",
       "      <td>2021-05-24T15:15:00.000</td>\n",
       "      <td>2020-11-21T00:00:00.000</td>\n",
       "      <td>Transfer</td>\n",
       "      <td>Partner</td>\n",
       "      <td>Other</td>\n",
       "      <td>Intact Male</td>\n",
       "      <td>6 months</td>\n",
       "      <td>Rat</td>\n",
       "      <td>White/Black</td>\n",
       "      <td>*Zayne</td>\n",
       "      <td>6 months</td>\n",
       "      <td>Male</td>\n",
       "    </tr>\n",
       "    <tr>\n",
       "      <th>663</th>\n",
       "      <td>A834632</td>\n",
       "      <td>2021-05-22 12:00:00</td>\n",
       "      <td>2021-05-22T12:00:00.000</td>\n",
       "      <td>2019-05-16T00:00:00.000</td>\n",
       "      <td>Euthanasia</td>\n",
       "      <td>Suffering</td>\n",
       "      <td>Other</td>\n",
       "      <td>Unknown</td>\n",
       "      <td>2 years</td>\n",
       "      <td>Guinea Pig</td>\n",
       "      <td>Tricolor</td>\n",
       "      <td>NaN</td>\n",
       "      <td>2 years</td>\n",
       "      <td>Unknown</td>\n",
       "    </tr>\n",
       "    <tr>\n",
       "      <th>676</th>\n",
       "      <td>A834664</td>\n",
       "      <td>2021-05-21 18:56:00</td>\n",
       "      <td>2021-05-21T18:56:00.000</td>\n",
       "      <td>2020-05-16T00:00:00.000</td>\n",
       "      <td>Euthanasia</td>\n",
       "      <td>Rabies Risk</td>\n",
       "      <td>Other</td>\n",
       "      <td>Unknown</td>\n",
       "      <td>1 year</td>\n",
       "      <td>Opossum</td>\n",
       "      <td>Gray</td>\n",
       "      <td>NaN</td>\n",
       "      <td>1 years</td>\n",
       "      <td>Unknown</td>\n",
       "    </tr>\n",
       "    <tr>\n",
       "      <th>737</th>\n",
       "      <td>A834932</td>\n",
       "      <td>2021-05-20 11:06:00</td>\n",
       "      <td>2021-05-20T11:06:00.000</td>\n",
       "      <td>2020-05-20T00:00:00.000</td>\n",
       "      <td>Euthanasia</td>\n",
       "      <td>Rabies Risk</td>\n",
       "      <td>Other</td>\n",
       "      <td>Unknown</td>\n",
       "      <td>NULL</td>\n",
       "      <td>Skunk</td>\n",
       "      <td>Black/White</td>\n",
       "      <td>NaN</td>\n",
       "      <td>NULL</td>\n",
       "      <td>Unknown</td>\n",
       "    </tr>\n",
       "    <tr>\n",
       "      <th>741</th>\n",
       "      <td>A834843</td>\n",
       "      <td>2021-05-20 07:49:00</td>\n",
       "      <td>2021-05-20T07:49:00.000</td>\n",
       "      <td>2019-05-19T00:00:00.000</td>\n",
       "      <td>Euthanasia</td>\n",
       "      <td>Rabies Risk</td>\n",
       "      <td>Other</td>\n",
       "      <td>Unknown</td>\n",
       "      <td>2 years</td>\n",
       "      <td>Fox</td>\n",
       "      <td>Gray/Brown</td>\n",
       "      <td>NaN</td>\n",
       "      <td>2 years</td>\n",
       "      <td>Unknown</td>\n",
       "    </tr>\n",
       "    <tr>\n",
       "      <th>742</th>\n",
       "      <td>A834842</td>\n",
       "      <td>2021-05-20 07:47:00</td>\n",
       "      <td>2021-05-20T07:47:00.000</td>\n",
       "      <td>2019-05-19T00:00:00.000</td>\n",
       "      <td>Euthanasia</td>\n",
       "      <td>Rabies Risk</td>\n",
       "      <td>Other</td>\n",
       "      <td>Unknown</td>\n",
       "      <td>2 years</td>\n",
       "      <td>Skunk</td>\n",
       "      <td>Black/White</td>\n",
       "      <td>NaN</td>\n",
       "      <td>2 years</td>\n",
       "      <td>Unknown</td>\n",
       "    </tr>\n",
       "    <tr>\n",
       "      <th>748</th>\n",
       "      <td>A834621</td>\n",
       "      <td>2021-05-19 17:24:00</td>\n",
       "      <td>2021-05-19T17:24:00.000</td>\n",
       "      <td>2020-05-15T00:00:00.000</td>\n",
       "      <td>Adoption</td>\n",
       "      <td>NaN</td>\n",
       "      <td>Other</td>\n",
       "      <td>Intact Male</td>\n",
       "      <td>1 year</td>\n",
       "      <td>Rabbit Lh</td>\n",
       "      <td>White</td>\n",
       "      <td>*Loofa</td>\n",
       "      <td>1 years</td>\n",
       "      <td>Male</td>\n",
       "    </tr>\n",
       "    <tr>\n",
       "      <th>778</th>\n",
       "      <td>A834249</td>\n",
       "      <td>2021-05-18 13:21:00</td>\n",
       "      <td>2021-05-18T13:21:00.000</td>\n",
       "      <td>2021-02-11T00:00:00.000</td>\n",
       "      <td>Adoption</td>\n",
       "      <td>NaN</td>\n",
       "      <td>Other</td>\n",
       "      <td>Intact Female</td>\n",
       "      <td>3 months</td>\n",
       "      <td>Rat</td>\n",
       "      <td>Gray/White</td>\n",
       "      <td>*Bait</td>\n",
       "      <td>3 months</td>\n",
       "      <td>Female</td>\n",
       "    </tr>\n",
       "    <tr>\n",
       "      <th>779</th>\n",
       "      <td>A834252</td>\n",
       "      <td>2021-05-18 13:21:00</td>\n",
       "      <td>2021-05-18T13:21:00.000</td>\n",
       "      <td>2021-02-11T00:00:00.000</td>\n",
       "      <td>Adoption</td>\n",
       "      <td>NaN</td>\n",
       "      <td>Other</td>\n",
       "      <td>Intact Female</td>\n",
       "      <td>3 months</td>\n",
       "      <td>Rat</td>\n",
       "      <td>Gray/White</td>\n",
       "      <td>*Switch</td>\n",
       "      <td>3 months</td>\n",
       "      <td>Female</td>\n",
       "    </tr>\n",
       "    <tr>\n",
       "      <th>788</th>\n",
       "      <td>A834549</td>\n",
       "      <td>2021-05-18 10:37:00</td>\n",
       "      <td>2021-05-18T10:37:00.000</td>\n",
       "      <td>2019-05-14T00:00:00.000</td>\n",
       "      <td>Euthanasia</td>\n",
       "      <td>Suffering</td>\n",
       "      <td>Other</td>\n",
       "      <td>Unknown</td>\n",
       "      <td>2 years</td>\n",
       "      <td>Bat</td>\n",
       "      <td>Brown</td>\n",
       "      <td>NaN</td>\n",
       "      <td>2 years</td>\n",
       "      <td>Unknown</td>\n",
       "    </tr>\n",
       "    <tr>\n",
       "      <th>813</th>\n",
       "      <td>A834722</td>\n",
       "      <td>2021-05-17 15:07:00</td>\n",
       "      <td>2021-05-17T15:07:00.000</td>\n",
       "      <td>2019-05-17T00:00:00.000</td>\n",
       "      <td>Disposal</td>\n",
       "      <td>NaN</td>\n",
       "      <td>Other</td>\n",
       "      <td>Unknown</td>\n",
       "      <td>2 years</td>\n",
       "      <td>Bat</td>\n",
       "      <td>Brown</td>\n",
       "      <td>NaN</td>\n",
       "      <td>2 years</td>\n",
       "      <td>Unknown</td>\n",
       "    </tr>\n",
       "    <tr>\n",
       "      <th>868</th>\n",
       "      <td>A831996</td>\n",
       "      <td>2021-05-15 12:24:00</td>\n",
       "      <td>2021-05-15T12:24:00.000</td>\n",
       "      <td>2020-04-05T00:00:00.000</td>\n",
       "      <td>Adoption</td>\n",
       "      <td>Foster</td>\n",
       "      <td>Other</td>\n",
       "      <td>Intact Female</td>\n",
       "      <td>1 year</td>\n",
       "      <td>Californian</td>\n",
       "      <td>White/Black</td>\n",
       "      <td>*Stevie Budd</td>\n",
       "      <td>1 years</td>\n",
       "      <td>Female</td>\n",
       "    </tr>\n",
       "    <tr>\n",
       "      <th>894</th>\n",
       "      <td>A834055</td>\n",
       "      <td>2021-05-14 15:33:00</td>\n",
       "      <td>2021-05-14T15:33:00.000</td>\n",
       "      <td>2020-05-09T00:00:00.000</td>\n",
       "      <td>Euthanasia</td>\n",
       "      <td>Rabies Risk</td>\n",
       "      <td>Other</td>\n",
       "      <td>Unknown</td>\n",
       "      <td>1 year</td>\n",
       "      <td>Bat</td>\n",
       "      <td>Brown</td>\n",
       "      <td>NaN</td>\n",
       "      <td>1 years</td>\n",
       "      <td>Unknown</td>\n",
       "    </tr>\n",
       "    <tr>\n",
       "      <th>905</th>\n",
       "      <td>A834098</td>\n",
       "      <td>2021-05-14 13:05:00</td>\n",
       "      <td>2021-05-14T13:05:00.000</td>\n",
       "      <td>2019-05-10T00:00:00.000</td>\n",
       "      <td>Euthanasia</td>\n",
       "      <td>NaN</td>\n",
       "      <td>Other</td>\n",
       "      <td>Unknown</td>\n",
       "      <td>2 years</td>\n",
       "      <td>Armadillo</td>\n",
       "      <td>Gray</td>\n",
       "      <td>NaN</td>\n",
       "      <td>2 years</td>\n",
       "      <td>Unknown</td>\n",
       "    </tr>\n",
       "    <tr>\n",
       "      <th>932</th>\n",
       "      <td>A834360</td>\n",
       "      <td>2021-05-13 12:47:00</td>\n",
       "      <td>2021-05-13T12:47:00.000</td>\n",
       "      <td>2020-05-13T00:00:00.000</td>\n",
       "      <td>Euthanasia</td>\n",
       "      <td>Rabies Risk</td>\n",
       "      <td>Other</td>\n",
       "      <td>Unknown</td>\n",
       "      <td>1 year</td>\n",
       "      <td>Bat</td>\n",
       "      <td>Black</td>\n",
       "      <td>NaN</td>\n",
       "      <td>1 years</td>\n",
       "      <td>Unknown</td>\n",
       "    </tr>\n",
       "    <tr>\n",
       "      <th>934</th>\n",
       "      <td>A833530</td>\n",
       "      <td>2021-05-13 12:23:00</td>\n",
       "      <td>2021-05-13T12:23:00.000</td>\n",
       "      <td>2020-05-01T00:00:00.000</td>\n",
       "      <td>Adoption</td>\n",
       "      <td>NaN</td>\n",
       "      <td>Other</td>\n",
       "      <td>Intact Female</td>\n",
       "      <td>1 year</td>\n",
       "      <td>Rabbit Sh</td>\n",
       "      <td>Black</td>\n",
       "      <td>Stormy</td>\n",
       "      <td>1 years</td>\n",
       "      <td>Female</td>\n",
       "    </tr>\n",
       "    <tr>\n",
       "      <th>985</th>\n",
       "      <td>A834133</td>\n",
       "      <td>2021-05-10 18:40:00</td>\n",
       "      <td>2021-05-10T18:40:00.000</td>\n",
       "      <td>2020-05-10T00:00:00.000</td>\n",
       "      <td>Euthanasia</td>\n",
       "      <td>Rabies Risk</td>\n",
       "      <td>Other</td>\n",
       "      <td>Unknown</td>\n",
       "      <td>1 year</td>\n",
       "      <td>Bat</td>\n",
       "      <td>Brown</td>\n",
       "      <td>NaN</td>\n",
       "      <td>1 years</td>\n",
       "      <td>Unknown</td>\n",
       "    </tr>\n",
       "    <tr>\n",
       "      <th>986</th>\n",
       "      <td>A834124</td>\n",
       "      <td>2021-05-10 18:39:00</td>\n",
       "      <td>2021-05-10T18:39:00.000</td>\n",
       "      <td>2019-05-10T00:00:00.000</td>\n",
       "      <td>Euthanasia</td>\n",
       "      <td>Rabies Risk</td>\n",
       "      <td>Other</td>\n",
       "      <td>Unknown</td>\n",
       "      <td>2 years</td>\n",
       "      <td>Bat</td>\n",
       "      <td>Brown</td>\n",
       "      <td>NaN</td>\n",
       "      <td>2 years</td>\n",
       "      <td>Unknown</td>\n",
       "    </tr>\n",
       "  </tbody>\n",
       "</table>\n",
       "</div>"
      ],
      "text/plain": [
       "    animal_id            datetime                monthyear  \\\n",
       "21    A836433 2021-06-10 11:56:00  2021-06-10T11:56:00.000   \n",
       "73    A836254 2021-06-09 09:41:00  2021-06-09T09:41:00.000   \n",
       "74    A836249 2021-06-09 09:37:00  2021-06-09T09:37:00.000   \n",
       "118   A835483 2021-06-08 10:39:00  2021-06-08T10:39:00.000   \n",
       "176   A835997 2021-06-06 17:07:00  2021-06-06T17:07:00.000   \n",
       "200   A836075 2021-06-06 10:04:00  2021-06-06T10:04:00.000   \n",
       "201   A836068 2021-06-06 10:00:00  2021-06-06T10:00:00.000   \n",
       "246   A835950 2021-06-04 17:38:00  2021-06-04T17:38:00.000   \n",
       "317   A835883 2021-06-03 07:35:00  2021-06-03T07:35:00.000   \n",
       "345   A835802 2021-06-02 11:18:00  2021-06-02T11:18:00.000   \n",
       "444   A835323 2021-05-29 11:37:00  2021-05-29T11:37:00.000   \n",
       "446   A835319 2021-05-29 11:19:00  2021-05-29T11:19:00.000   \n",
       "516   A835056 2021-05-27 10:45:00  2021-05-27T10:45:00.000   \n",
       "519   A835377 2021-05-27 09:24:00  2021-05-27T09:24:00.000   \n",
       "592   A835038 2021-05-25 09:41:00  2021-05-25T09:41:00.000   \n",
       "607   A835017 2021-05-24 16:10:00  2021-05-24T16:10:00.000   \n",
       "608   A835016 2021-05-24 16:09:00  2021-05-24T16:09:00.000   \n",
       "609   A835015 2021-05-24 16:09:00  2021-05-24T16:09:00.000   \n",
       "610   A835014 2021-05-24 15:15:00  2021-05-24T15:15:00.000   \n",
       "611   A835013 2021-05-24 15:15:00  2021-05-24T15:15:00.000   \n",
       "663   A834632 2021-05-22 12:00:00  2021-05-22T12:00:00.000   \n",
       "676   A834664 2021-05-21 18:56:00  2021-05-21T18:56:00.000   \n",
       "737   A834932 2021-05-20 11:06:00  2021-05-20T11:06:00.000   \n",
       "741   A834843 2021-05-20 07:49:00  2021-05-20T07:49:00.000   \n",
       "742   A834842 2021-05-20 07:47:00  2021-05-20T07:47:00.000   \n",
       "748   A834621 2021-05-19 17:24:00  2021-05-19T17:24:00.000   \n",
       "778   A834249 2021-05-18 13:21:00  2021-05-18T13:21:00.000   \n",
       "779   A834252 2021-05-18 13:21:00  2021-05-18T13:21:00.000   \n",
       "788   A834549 2021-05-18 10:37:00  2021-05-18T10:37:00.000   \n",
       "813   A834722 2021-05-17 15:07:00  2021-05-17T15:07:00.000   \n",
       "868   A831996 2021-05-15 12:24:00  2021-05-15T12:24:00.000   \n",
       "894   A834055 2021-05-14 15:33:00  2021-05-14T15:33:00.000   \n",
       "905   A834098 2021-05-14 13:05:00  2021-05-14T13:05:00.000   \n",
       "932   A834360 2021-05-13 12:47:00  2021-05-13T12:47:00.000   \n",
       "934   A833530 2021-05-13 12:23:00  2021-05-13T12:23:00.000   \n",
       "985   A834133 2021-05-10 18:40:00  2021-05-10T18:40:00.000   \n",
       "986   A834124 2021-05-10 18:39:00  2021-05-10T18:39:00.000   \n",
       "\n",
       "               date_of_birth outcome_type outcome_subtype animal_type  \\\n",
       "21   2021-04-10T00:00:00.000         Died         Enroute       Other   \n",
       "73   2021-02-08T00:00:00.000   Euthanasia     Rabies Risk       Other   \n",
       "74   2020-12-08T00:00:00.000   Euthanasia     Rabies Risk       Other   \n",
       "118  2020-09-28T00:00:00.000   Euthanasia     Rabies Risk       Other   \n",
       "176  2020-10-04T00:00:00.000     Adoption             NaN       Other   \n",
       "200  2019-06-05T00:00:00.000   Euthanasia     Rabies Risk       Other   \n",
       "201  2019-06-05T00:00:00.000   Euthanasia     Rabies Risk       Other   \n",
       "246  2019-12-03T00:00:00.000     Adoption             NaN       Other   \n",
       "317  2019-06-02T00:00:00.000   Euthanasia     Rabies Risk       Other   \n",
       "345  2020-06-01T00:00:00.000   Euthanasia     Rabies Risk       Other   \n",
       "444  2019-05-26T00:00:00.000     Adoption             NaN       Other   \n",
       "446  2020-05-26T00:00:00.000     Adoption             NaN       Other   \n",
       "516  2020-05-22T00:00:00.000     Transfer         Partner       Other   \n",
       "519  2020-05-27T00:00:00.000   Euthanasia       Suffering       Other   \n",
       "592  2019-05-21T00:00:00.000         Died          At Vet       Other   \n",
       "607  2020-11-21T00:00:00.000     Transfer         Partner       Other   \n",
       "608  2020-11-21T00:00:00.000     Transfer         Partner       Other   \n",
       "609  2020-11-21T00:00:00.000     Transfer         Partner       Other   \n",
       "610  2020-11-21T00:00:00.000     Transfer         Partner       Other   \n",
       "611  2020-11-21T00:00:00.000     Transfer         Partner       Other   \n",
       "663  2019-05-16T00:00:00.000   Euthanasia       Suffering       Other   \n",
       "676  2020-05-16T00:00:00.000   Euthanasia     Rabies Risk       Other   \n",
       "737  2020-05-20T00:00:00.000   Euthanasia     Rabies Risk       Other   \n",
       "741  2019-05-19T00:00:00.000   Euthanasia     Rabies Risk       Other   \n",
       "742  2019-05-19T00:00:00.000   Euthanasia     Rabies Risk       Other   \n",
       "748  2020-05-15T00:00:00.000     Adoption             NaN       Other   \n",
       "778  2021-02-11T00:00:00.000     Adoption             NaN       Other   \n",
       "779  2021-02-11T00:00:00.000     Adoption             NaN       Other   \n",
       "788  2019-05-14T00:00:00.000   Euthanasia       Suffering       Other   \n",
       "813  2019-05-17T00:00:00.000     Disposal             NaN       Other   \n",
       "868  2020-04-05T00:00:00.000     Adoption          Foster       Other   \n",
       "894  2020-05-09T00:00:00.000   Euthanasia     Rabies Risk       Other   \n",
       "905  2019-05-10T00:00:00.000   Euthanasia             NaN       Other   \n",
       "932  2020-05-13T00:00:00.000   Euthanasia     Rabies Risk       Other   \n",
       "934  2020-05-01T00:00:00.000     Adoption             NaN       Other   \n",
       "985  2020-05-10T00:00:00.000   Euthanasia     Rabies Risk       Other   \n",
       "986  2019-05-10T00:00:00.000   Euthanasia     Rabies Risk       Other   \n",
       "\n",
       "    sex_upon_outcome age_upon_outcome        breed        color          name  \\\n",
       "21           Unknown          1 month      Raccoon   Black/Gray           NaN   \n",
       "73           Unknown         3 months      Raccoon   Gray/Black           NaN   \n",
       "74           Unknown         6 months      Raccoon   Gray/Black           NaN   \n",
       "118          Unknown         8 months      Raccoon  Brown/Black           NaN   \n",
       "176      Intact Male         8 months   Guinea Pig     Tricolor        Choppa   \n",
       "200          Unknown          2 years      Raccoon  Brown/Black           NaN   \n",
       "201          Unknown          2 years          Fox        Brown           NaN   \n",
       "246    Intact Female           1 year    Rabbit Sh         Gray       *Banana   \n",
       "317          Unknown          2 years          Bat  Brown/Brown           NaN   \n",
       "345          Unknown           1 year          Bat        Brown           NaN   \n",
       "444    Intact Female          2 years   Guinea Pig     Tricolor        Muffin   \n",
       "446          Unknown           1 year       Turtle        Green      *Leonard   \n",
       "516          Unknown           1 year     Hedgehog        Brown           NaN   \n",
       "519      Intact Male           1 year      Opossum   Gray/White           NaN   \n",
       "592          Unknown          2 years       Turtle   Green/Gold           NaN   \n",
       "607      Intact Male         6 months          Rat        Black        *Harry   \n",
       "608      Intact Male         6 months          Rat  Black/White        *Louis   \n",
       "609      Intact Male         6 months          Rat  Black/White         *Liam   \n",
       "610      Intact Male         6 months          Rat  Black/White        *Niall   \n",
       "611      Intact Male         6 months          Rat  White/Black        *Zayne   \n",
       "663          Unknown          2 years   Guinea Pig     Tricolor           NaN   \n",
       "676          Unknown           1 year      Opossum         Gray           NaN   \n",
       "737          Unknown             NULL        Skunk  Black/White           NaN   \n",
       "741          Unknown          2 years          Fox   Gray/Brown           NaN   \n",
       "742          Unknown          2 years        Skunk  Black/White           NaN   \n",
       "748      Intact Male           1 year    Rabbit Lh        White        *Loofa   \n",
       "778    Intact Female         3 months          Rat   Gray/White         *Bait   \n",
       "779    Intact Female         3 months          Rat   Gray/White       *Switch   \n",
       "788          Unknown          2 years          Bat        Brown           NaN   \n",
       "813          Unknown          2 years          Bat        Brown           NaN   \n",
       "868    Intact Female           1 year  Californian  White/Black  *Stevie Budd   \n",
       "894          Unknown           1 year          Bat        Brown           NaN   \n",
       "905          Unknown          2 years    Armadillo         Gray           NaN   \n",
       "932          Unknown           1 year          Bat        Black           NaN   \n",
       "934    Intact Female           1 year    Rabbit Sh        Black        Stormy   \n",
       "985          Unknown           1 year          Bat        Brown           NaN   \n",
       "986          Unknown          2 years          Bat        Brown           NaN   \n",
       "\n",
       "     new_age1 new_sex1  \n",
       "21    1 month  Unknown  \n",
       "73   3 months  Unknown  \n",
       "74   6 months  Unknown  \n",
       "118  8 months  Unknown  \n",
       "176  8 months     Male  \n",
       "200   2 years  Unknown  \n",
       "201   2 years  Unknown  \n",
       "246   1 years   Female  \n",
       "317   2 years  Unknown  \n",
       "345   1 years  Unknown  \n",
       "444   2 years   Female  \n",
       "446   1 years  Unknown  \n",
       "516   1 years  Unknown  \n",
       "519   1 years     Male  \n",
       "592   2 years  Unknown  \n",
       "607  6 months     Male  \n",
       "608  6 months     Male  \n",
       "609  6 months     Male  \n",
       "610  6 months     Male  \n",
       "611  6 months     Male  \n",
       "663   2 years  Unknown  \n",
       "676   1 years  Unknown  \n",
       "737      NULL  Unknown  \n",
       "741   2 years  Unknown  \n",
       "742   2 years  Unknown  \n",
       "748   1 years     Male  \n",
       "778  3 months   Female  \n",
       "779  3 months   Female  \n",
       "788   2 years  Unknown  \n",
       "813   2 years  Unknown  \n",
       "868   1 years   Female  \n",
       "894   1 years  Unknown  \n",
       "905   2 years  Unknown  \n",
       "932   1 years  Unknown  \n",
       "934   1 years   Female  \n",
       "985   1 years  Unknown  \n",
       "986   2 years  Unknown  "
      ]
     },
     "execution_count": 22,
     "metadata": {},
     "output_type": "execute_result"
    }
   ],
   "source": [
    "animals[animals['animal_type'] == 'Other']"
   ]
  },
  {
   "cell_type": "code",
   "execution_count": 23,
   "metadata": {
    "hidden": true
   },
   "outputs": [
    {
     "data": {
      "text/plain": [
       "Cat      488\n",
       "Dog      470\n",
       "Other     37\n",
       "Bird       5\n",
       "Name: animal_type, dtype: int64"
      ]
     },
     "execution_count": 23,
     "metadata": {},
     "output_type": "execute_result"
    }
   ],
   "source": [
    "animals['animal_type'].value_counts()"
   ]
  },
  {
   "cell_type": "code",
   "execution_count": 24,
   "metadata": {
    "hidden": true,
    "scrolled": true
   },
   "outputs": [
    {
     "data": {
      "text/plain": [
       "Cat     488\n",
       "Dog     470\n",
       "Bird      5\n",
       "Name: animal_type, dtype: int64"
      ]
     },
     "execution_count": 24,
     "metadata": {},
     "output_type": "execute_result"
    }
   ],
   "source": [
    "animals['animal_type'].map(lambda x: np.nan if x == 'Other' else x).value_counts()"
   ]
  },
  {
   "cell_type": "markdown",
   "metadata": {
    "heading_collapsed": true
   },
   "source": [
    "# Handling Missing Data"
   ]
  },
  {
   "cell_type": "markdown",
   "metadata": {
    "hidden": true
   },
   "source": [
    "A lot of the times we'll have missing information in our data set. This can sometimes be troublesome in what we're trying to do."
   ]
  },
  {
   "cell_type": "markdown",
   "metadata": {
    "hidden": true
   },
   "source": [
    "So far, we've been doing some preprocessing/cleaning to answer questions. Now we're going to handle the missing values in our data.\n",
    "\n",
    "There are a few strategies we can choose from and they each have their special use case."
   ]
  },
  {
   "cell_type": "markdown",
   "metadata": {
    "hidden": true
   },
   "source": [
    "> Before making changes, it's convenient to make changes to a copy instead of overwriting data. We'll keep all our changes in `animals_clean` which will be a [copy](https://pandas.pydata.org/docs/reference/api/pandas.DataFrame.copy.html) of the original DataFrame."
   ]
  },
  {
   "cell_type": "code",
   "execution_count": 25,
   "metadata": {
    "hidden": true
   },
   "outputs": [],
   "source": [
    "animals_clean = animals.copy()"
   ]
  },
  {
   "cell_type": "markdown",
   "metadata": {
    "heading_collapsed": true,
    "hidden": true
   },
   "source": [
    "## Fill with a Relevant Value"
   ]
  },
  {
   "cell_type": "markdown",
   "metadata": {
    "hidden": true
   },
   "source": [
    "A lot of times we already have an idea of how we want to specify that a value was missing and replace it with a value that makes more sense than an \"empty\" value."
   ]
  },
  {
   "cell_type": "markdown",
   "metadata": {
    "hidden": true
   },
   "source": [
    "For example, it might make sense to fill the value as \"MISSING\" or \"UNKNOWN\". This way it's clearer when do more analysis."
   ]
  },
  {
   "cell_type": "markdown",
   "metadata": {
    "hidden": true
   },
   "source": [
    "> We can use Pandas' [`fillna()` method](https://pandas.pydata.org/pandas-docs/stable/reference/api/pandas.DataFrame.fillna.html) to replace missing values with something specific"
   ]
  },
  {
   "cell_type": "code",
   "execution_count": 26,
   "metadata": {
    "hidden": true
   },
   "outputs": [
    {
     "data": {
      "text/html": [
       "<div>\n",
       "<style scoped>\n",
       "    .dataframe tbody tr th:only-of-type {\n",
       "        vertical-align: middle;\n",
       "    }\n",
       "\n",
       "    .dataframe tbody tr th {\n",
       "        vertical-align: top;\n",
       "    }\n",
       "\n",
       "    .dataframe thead th {\n",
       "        text-align: right;\n",
       "    }\n",
       "</style>\n",
       "<table border=\"1\" class=\"dataframe\">\n",
       "  <thead>\n",
       "    <tr style=\"text-align: right;\">\n",
       "      <th></th>\n",
       "      <th>animal_id</th>\n",
       "      <th>datetime</th>\n",
       "      <th>monthyear</th>\n",
       "      <th>date_of_birth</th>\n",
       "      <th>outcome_type</th>\n",
       "      <th>outcome_subtype</th>\n",
       "      <th>animal_type</th>\n",
       "      <th>sex_upon_outcome</th>\n",
       "      <th>age_upon_outcome</th>\n",
       "      <th>breed</th>\n",
       "      <th>color</th>\n",
       "      <th>name</th>\n",
       "      <th>new_age1</th>\n",
       "      <th>new_sex1</th>\n",
       "    </tr>\n",
       "  </thead>\n",
       "  <tbody>\n",
       "    <tr>\n",
       "      <th>0</th>\n",
       "      <td>A836161</td>\n",
       "      <td>2021-06-11 16:52:00</td>\n",
       "      <td>2021-06-11T16:52:00.000</td>\n",
       "      <td>2021-05-16T00:00:00.000</td>\n",
       "      <td>Transfer</td>\n",
       "      <td>Partner</td>\n",
       "      <td>Dog</td>\n",
       "      <td>Intact Male</td>\n",
       "      <td>3 weeks</td>\n",
       "      <td>American Pit Bull Terrier Mix</td>\n",
       "      <td>Tricolor</td>\n",
       "      <td>UNKNOWN</td>\n",
       "      <td>3 weeks</td>\n",
       "      <td>Male</td>\n",
       "    </tr>\n",
       "    <tr>\n",
       "      <th>1</th>\n",
       "      <td>A654946</td>\n",
       "      <td>2021-06-10 18:13:00</td>\n",
       "      <td>2021-06-10T18:13:00.000</td>\n",
       "      <td>2011-05-27T00:00:00.000</td>\n",
       "      <td>Return to Owner</td>\n",
       "      <td>NaN</td>\n",
       "      <td>Dog</td>\n",
       "      <td>Neutered Male</td>\n",
       "      <td>10 years</td>\n",
       "      <td>Chihuahua Shorthair Mix</td>\n",
       "      <td>Brown</td>\n",
       "      <td>Chachi</td>\n",
       "      <td>10 years</td>\n",
       "      <td>Male</td>\n",
       "    </tr>\n",
       "    <tr>\n",
       "      <th>2</th>\n",
       "      <td>A801583</td>\n",
       "      <td>2021-06-10 18:02:00</td>\n",
       "      <td>2021-06-10T18:02:00.000</td>\n",
       "      <td>2017-08-06T00:00:00.000</td>\n",
       "      <td>Adoption</td>\n",
       "      <td>NaN</td>\n",
       "      <td>Dog</td>\n",
       "      <td>Spayed Female</td>\n",
       "      <td>3 years</td>\n",
       "      <td>Boxer/Labrador Retriever</td>\n",
       "      <td>Tan/White</td>\n",
       "      <td>Molly</td>\n",
       "      <td>3 years</td>\n",
       "      <td>Female</td>\n",
       "    </tr>\n",
       "    <tr>\n",
       "      <th>3</th>\n",
       "      <td>A835490</td>\n",
       "      <td>2021-06-10 17:52:00</td>\n",
       "      <td>2021-06-10T17:52:00.000</td>\n",
       "      <td>2020-11-28T00:00:00.000</td>\n",
       "      <td>Adoption</td>\n",
       "      <td>NaN</td>\n",
       "      <td>Dog</td>\n",
       "      <td>Neutered Male</td>\n",
       "      <td>6 months</td>\n",
       "      <td>Australian Cattle Dog Mix</td>\n",
       "      <td>Tan/Black</td>\n",
       "      <td>*Bow</td>\n",
       "      <td>6 months</td>\n",
       "      <td>Male</td>\n",
       "    </tr>\n",
       "    <tr>\n",
       "      <th>4</th>\n",
       "      <td>A836457</td>\n",
       "      <td>2021-06-10 17:47:00</td>\n",
       "      <td>2021-06-10T17:47:00.000</td>\n",
       "      <td>2021-05-10T00:00:00.000</td>\n",
       "      <td>Euthanasia</td>\n",
       "      <td>Suffering</td>\n",
       "      <td>Cat</td>\n",
       "      <td>Unknown</td>\n",
       "      <td>NULL</td>\n",
       "      <td>Domestic Shorthair Mix</td>\n",
       "      <td>Brown Tabby</td>\n",
       "      <td>UNKNOWN</td>\n",
       "      <td>NULL</td>\n",
       "      <td>Unknown</td>\n",
       "    </tr>\n",
       "  </tbody>\n",
       "</table>\n",
       "</div>"
      ],
      "text/plain": [
       "  animal_id            datetime                monthyear  \\\n",
       "0   A836161 2021-06-11 16:52:00  2021-06-11T16:52:00.000   \n",
       "1   A654946 2021-06-10 18:13:00  2021-06-10T18:13:00.000   \n",
       "2   A801583 2021-06-10 18:02:00  2021-06-10T18:02:00.000   \n",
       "3   A835490 2021-06-10 17:52:00  2021-06-10T17:52:00.000   \n",
       "4   A836457 2021-06-10 17:47:00  2021-06-10T17:47:00.000   \n",
       "\n",
       "             date_of_birth     outcome_type outcome_subtype animal_type  \\\n",
       "0  2021-05-16T00:00:00.000         Transfer         Partner         Dog   \n",
       "1  2011-05-27T00:00:00.000  Return to Owner             NaN         Dog   \n",
       "2  2017-08-06T00:00:00.000         Adoption             NaN         Dog   \n",
       "3  2020-11-28T00:00:00.000         Adoption             NaN         Dog   \n",
       "4  2021-05-10T00:00:00.000       Euthanasia       Suffering         Cat   \n",
       "\n",
       "  sex_upon_outcome age_upon_outcome                          breed  \\\n",
       "0      Intact Male          3 weeks  American Pit Bull Terrier Mix   \n",
       "1    Neutered Male         10 years        Chihuahua Shorthair Mix   \n",
       "2    Spayed Female          3 years       Boxer/Labrador Retriever   \n",
       "3    Neutered Male         6 months      Australian Cattle Dog Mix   \n",
       "4          Unknown             NULL         Domestic Shorthair Mix   \n",
       "\n",
       "         color     name  new_age1 new_sex1  \n",
       "0     Tricolor  UNKNOWN   3 weeks     Male  \n",
       "1        Brown   Chachi  10 years     Male  \n",
       "2    Tan/White    Molly   3 years   Female  \n",
       "3    Tan/Black     *Bow  6 months     Male  \n",
       "4  Brown Tabby  UNKNOWN      NULL  Unknown  "
      ]
     },
     "execution_count": 26,
     "metadata": {},
     "output_type": "execute_result"
    }
   ],
   "source": [
    "# Note this creates a copy of `animals` with the missing values replaced\n",
    "animals_name_filled = animals.fillna({'name':'UNKNOWN'}) # {col_name:new_value}\n",
    "animals_name_filled.head()"
   ]
  },
  {
   "cell_type": "code",
   "execution_count": 27,
   "metadata": {
    "hidden": true
   },
   "outputs": [
    {
     "data": {
      "text/html": [
       "<div>\n",
       "<style scoped>\n",
       "    .dataframe tbody tr th:only-of-type {\n",
       "        vertical-align: middle;\n",
       "    }\n",
       "\n",
       "    .dataframe tbody tr th {\n",
       "        vertical-align: top;\n",
       "    }\n",
       "\n",
       "    .dataframe thead th {\n",
       "        text-align: right;\n",
       "    }\n",
       "</style>\n",
       "<table border=\"1\" class=\"dataframe\">\n",
       "  <thead>\n",
       "    <tr style=\"text-align: right;\">\n",
       "      <th></th>\n",
       "      <th>animal_id</th>\n",
       "      <th>datetime</th>\n",
       "      <th>monthyear</th>\n",
       "      <th>date_of_birth</th>\n",
       "      <th>outcome_type</th>\n",
       "      <th>outcome_subtype</th>\n",
       "      <th>animal_type</th>\n",
       "      <th>sex_upon_outcome</th>\n",
       "      <th>age_upon_outcome</th>\n",
       "      <th>breed</th>\n",
       "      <th>color</th>\n",
       "      <th>name</th>\n",
       "      <th>new_age1</th>\n",
       "      <th>new_sex1</th>\n",
       "    </tr>\n",
       "  </thead>\n",
       "  <tbody>\n",
       "    <tr>\n",
       "      <th>0</th>\n",
       "      <td>A836161</td>\n",
       "      <td>2021-06-11 16:52:00</td>\n",
       "      <td>2021-06-11T16:52:00.000</td>\n",
       "      <td>2021-05-16T00:00:00.000</td>\n",
       "      <td>Transfer</td>\n",
       "      <td>Partner</td>\n",
       "      <td>Dog</td>\n",
       "      <td>Intact Male</td>\n",
       "      <td>3 weeks</td>\n",
       "      <td>American Pit Bull Terrier Mix</td>\n",
       "      <td>Tricolor</td>\n",
       "      <td>NaN</td>\n",
       "      <td>3 weeks</td>\n",
       "      <td>Male</td>\n",
       "    </tr>\n",
       "    <tr>\n",
       "      <th>1</th>\n",
       "      <td>A654946</td>\n",
       "      <td>2021-06-10 18:13:00</td>\n",
       "      <td>2021-06-10T18:13:00.000</td>\n",
       "      <td>2011-05-27T00:00:00.000</td>\n",
       "      <td>Return to Owner</td>\n",
       "      <td>NaN</td>\n",
       "      <td>Dog</td>\n",
       "      <td>Neutered Male</td>\n",
       "      <td>10 years</td>\n",
       "      <td>Chihuahua Shorthair Mix</td>\n",
       "      <td>Brown</td>\n",
       "      <td>Chachi</td>\n",
       "      <td>10 years</td>\n",
       "      <td>Male</td>\n",
       "    </tr>\n",
       "    <tr>\n",
       "      <th>2</th>\n",
       "      <td>A801583</td>\n",
       "      <td>2021-06-10 18:02:00</td>\n",
       "      <td>2021-06-10T18:02:00.000</td>\n",
       "      <td>2017-08-06T00:00:00.000</td>\n",
       "      <td>Adoption</td>\n",
       "      <td>NaN</td>\n",
       "      <td>Dog</td>\n",
       "      <td>Spayed Female</td>\n",
       "      <td>3 years</td>\n",
       "      <td>Boxer/Labrador Retriever</td>\n",
       "      <td>Tan/White</td>\n",
       "      <td>Molly</td>\n",
       "      <td>3 years</td>\n",
       "      <td>Female</td>\n",
       "    </tr>\n",
       "    <tr>\n",
       "      <th>3</th>\n",
       "      <td>A835490</td>\n",
       "      <td>2021-06-10 17:52:00</td>\n",
       "      <td>2021-06-10T17:52:00.000</td>\n",
       "      <td>2020-11-28T00:00:00.000</td>\n",
       "      <td>Adoption</td>\n",
       "      <td>NaN</td>\n",
       "      <td>Dog</td>\n",
       "      <td>Neutered Male</td>\n",
       "      <td>6 months</td>\n",
       "      <td>Australian Cattle Dog Mix</td>\n",
       "      <td>Tan/Black</td>\n",
       "      <td>*Bow</td>\n",
       "      <td>6 months</td>\n",
       "      <td>Male</td>\n",
       "    </tr>\n",
       "    <tr>\n",
       "      <th>4</th>\n",
       "      <td>A836457</td>\n",
       "      <td>2021-06-10 17:47:00</td>\n",
       "      <td>2021-06-10T17:47:00.000</td>\n",
       "      <td>2021-05-10T00:00:00.000</td>\n",
       "      <td>Euthanasia</td>\n",
       "      <td>Suffering</td>\n",
       "      <td>Cat</td>\n",
       "      <td>Unknown</td>\n",
       "      <td>NULL</td>\n",
       "      <td>Domestic Shorthair Mix</td>\n",
       "      <td>Brown Tabby</td>\n",
       "      <td>NaN</td>\n",
       "      <td>NULL</td>\n",
       "      <td>Unknown</td>\n",
       "    </tr>\n",
       "  </tbody>\n",
       "</table>\n",
       "</div>"
      ],
      "text/plain": [
       "  animal_id            datetime                monthyear  \\\n",
       "0   A836161 2021-06-11 16:52:00  2021-06-11T16:52:00.000   \n",
       "1   A654946 2021-06-10 18:13:00  2021-06-10T18:13:00.000   \n",
       "2   A801583 2021-06-10 18:02:00  2021-06-10T18:02:00.000   \n",
       "3   A835490 2021-06-10 17:52:00  2021-06-10T17:52:00.000   \n",
       "4   A836457 2021-06-10 17:47:00  2021-06-10T17:47:00.000   \n",
       "\n",
       "             date_of_birth     outcome_type outcome_subtype animal_type  \\\n",
       "0  2021-05-16T00:00:00.000         Transfer         Partner         Dog   \n",
       "1  2011-05-27T00:00:00.000  Return to Owner             NaN         Dog   \n",
       "2  2017-08-06T00:00:00.000         Adoption             NaN         Dog   \n",
       "3  2020-11-28T00:00:00.000         Adoption             NaN         Dog   \n",
       "4  2021-05-10T00:00:00.000       Euthanasia       Suffering         Cat   \n",
       "\n",
       "  sex_upon_outcome age_upon_outcome                          breed  \\\n",
       "0      Intact Male          3 weeks  American Pit Bull Terrier Mix   \n",
       "1    Neutered Male         10 years        Chihuahua Shorthair Mix   \n",
       "2    Spayed Female          3 years       Boxer/Labrador Retriever   \n",
       "3    Neutered Male         6 months      Australian Cattle Dog Mix   \n",
       "4          Unknown             NULL         Domestic Shorthair Mix   \n",
       "\n",
       "         color    name  new_age1 new_sex1  \n",
       "0     Tricolor     NaN   3 weeks     Male  \n",
       "1        Brown  Chachi  10 years     Male  \n",
       "2    Tan/White   Molly   3 years   Female  \n",
       "3    Tan/Black    *Bow  6 months     Male  \n",
       "4  Brown Tabby     NaN      NULL  Unknown  "
      ]
     },
     "execution_count": 27,
     "metadata": {},
     "output_type": "execute_result"
    }
   ],
   "source": [
    "# `animals` DataFrame is left untouched\n",
    "animals.head()"
   ]
  },
  {
   "cell_type": "code",
   "execution_count": 28,
   "metadata": {
    "hidden": true
   },
   "outputs": [
    {
     "data": {
      "text/html": [
       "<div>\n",
       "<style scoped>\n",
       "    .dataframe tbody tr th:only-of-type {\n",
       "        vertical-align: middle;\n",
       "    }\n",
       "\n",
       "    .dataframe tbody tr th {\n",
       "        vertical-align: top;\n",
       "    }\n",
       "\n",
       "    .dataframe thead th {\n",
       "        text-align: right;\n",
       "    }\n",
       "</style>\n",
       "<table border=\"1\" class=\"dataframe\">\n",
       "  <thead>\n",
       "    <tr style=\"text-align: right;\">\n",
       "      <th></th>\n",
       "      <th>name</th>\n",
       "    </tr>\n",
       "  </thead>\n",
       "  <tbody>\n",
       "    <tr>\n",
       "      <th>0</th>\n",
       "      <td>UNKNOWN</td>\n",
       "    </tr>\n",
       "    <tr>\n",
       "      <th>1</th>\n",
       "      <td>Chachi</td>\n",
       "    </tr>\n",
       "    <tr>\n",
       "      <th>2</th>\n",
       "      <td>Molly</td>\n",
       "    </tr>\n",
       "    <tr>\n",
       "      <th>3</th>\n",
       "      <td>*Bow</td>\n",
       "    </tr>\n",
       "    <tr>\n",
       "      <th>4</th>\n",
       "      <td>UNKNOWN</td>\n",
       "    </tr>\n",
       "  </tbody>\n",
       "</table>\n",
       "</div>"
      ],
      "text/plain": [
       "      name\n",
       "0  UNKNOWN\n",
       "1   Chachi\n",
       "2    Molly\n",
       "3     *Bow\n",
       "4  UNKNOWN"
      ]
     },
     "execution_count": 28,
     "metadata": {},
     "output_type": "execute_result"
    }
   ],
   "source": [
    "# Alternative way to fill missing values by specifying column(s) first\n",
    "animals_only_names = animals[['name']].fillna(value='UNKNOWN')\n",
    "animals_only_names.head()"
   ]
  },
  {
   "cell_type": "code",
   "execution_count": 29,
   "metadata": {
    "hidden": true
   },
   "outputs": [
    {
     "data": {
      "text/html": [
       "<div>\n",
       "<style scoped>\n",
       "    .dataframe tbody tr th:only-of-type {\n",
       "        vertical-align: middle;\n",
       "    }\n",
       "\n",
       "    .dataframe tbody tr th {\n",
       "        vertical-align: top;\n",
       "    }\n",
       "\n",
       "    .dataframe thead th {\n",
       "        text-align: right;\n",
       "    }\n",
       "</style>\n",
       "<table border=\"1\" class=\"dataframe\">\n",
       "  <thead>\n",
       "    <tr style=\"text-align: right;\">\n",
       "      <th></th>\n",
       "      <th>animal_id</th>\n",
       "      <th>datetime</th>\n",
       "      <th>monthyear</th>\n",
       "      <th>date_of_birth</th>\n",
       "      <th>outcome_type</th>\n",
       "      <th>outcome_subtype</th>\n",
       "      <th>animal_type</th>\n",
       "      <th>sex_upon_outcome</th>\n",
       "      <th>age_upon_outcome</th>\n",
       "      <th>breed</th>\n",
       "      <th>color</th>\n",
       "      <th>name</th>\n",
       "      <th>new_age1</th>\n",
       "      <th>new_sex1</th>\n",
       "    </tr>\n",
       "  </thead>\n",
       "  <tbody>\n",
       "    <tr>\n",
       "      <th>0</th>\n",
       "      <td>A836161</td>\n",
       "      <td>2021-06-11 16:52:00</td>\n",
       "      <td>2021-06-11T16:52:00.000</td>\n",
       "      <td>2021-05-16T00:00:00.000</td>\n",
       "      <td>Transfer</td>\n",
       "      <td>Partner</td>\n",
       "      <td>Dog</td>\n",
       "      <td>Intact Male</td>\n",
       "      <td>3 weeks</td>\n",
       "      <td>American Pit Bull Terrier Mix</td>\n",
       "      <td>Tricolor</td>\n",
       "      <td>UNKNOWN</td>\n",
       "      <td>3 weeks</td>\n",
       "      <td>Male</td>\n",
       "    </tr>\n",
       "    <tr>\n",
       "      <th>1</th>\n",
       "      <td>A654946</td>\n",
       "      <td>2021-06-10 18:13:00</td>\n",
       "      <td>2021-06-10T18:13:00.000</td>\n",
       "      <td>2011-05-27T00:00:00.000</td>\n",
       "      <td>Return to Owner</td>\n",
       "      <td>NaN</td>\n",
       "      <td>Dog</td>\n",
       "      <td>Neutered Male</td>\n",
       "      <td>10 years</td>\n",
       "      <td>Chihuahua Shorthair Mix</td>\n",
       "      <td>Brown</td>\n",
       "      <td>Chachi</td>\n",
       "      <td>10 years</td>\n",
       "      <td>Male</td>\n",
       "    </tr>\n",
       "    <tr>\n",
       "      <th>2</th>\n",
       "      <td>A801583</td>\n",
       "      <td>2021-06-10 18:02:00</td>\n",
       "      <td>2021-06-10T18:02:00.000</td>\n",
       "      <td>2017-08-06T00:00:00.000</td>\n",
       "      <td>Adoption</td>\n",
       "      <td>NaN</td>\n",
       "      <td>Dog</td>\n",
       "      <td>Spayed Female</td>\n",
       "      <td>3 years</td>\n",
       "      <td>Boxer/Labrador Retriever</td>\n",
       "      <td>Tan/White</td>\n",
       "      <td>Molly</td>\n",
       "      <td>3 years</td>\n",
       "      <td>Female</td>\n",
       "    </tr>\n",
       "    <tr>\n",
       "      <th>3</th>\n",
       "      <td>A835490</td>\n",
       "      <td>2021-06-10 17:52:00</td>\n",
       "      <td>2021-06-10T17:52:00.000</td>\n",
       "      <td>2020-11-28T00:00:00.000</td>\n",
       "      <td>Adoption</td>\n",
       "      <td>NaN</td>\n",
       "      <td>Dog</td>\n",
       "      <td>Neutered Male</td>\n",
       "      <td>6 months</td>\n",
       "      <td>Australian Cattle Dog Mix</td>\n",
       "      <td>Tan/Black</td>\n",
       "      <td>*Bow</td>\n",
       "      <td>6 months</td>\n",
       "      <td>Male</td>\n",
       "    </tr>\n",
       "    <tr>\n",
       "      <th>4</th>\n",
       "      <td>A836457</td>\n",
       "      <td>2021-06-10 17:47:00</td>\n",
       "      <td>2021-06-10T17:47:00.000</td>\n",
       "      <td>2021-05-10T00:00:00.000</td>\n",
       "      <td>Euthanasia</td>\n",
       "      <td>Suffering</td>\n",
       "      <td>Cat</td>\n",
       "      <td>Unknown</td>\n",
       "      <td>NULL</td>\n",
       "      <td>Domestic Shorthair Mix</td>\n",
       "      <td>Brown Tabby</td>\n",
       "      <td>UNKNOWN</td>\n",
       "      <td>NULL</td>\n",
       "      <td>Unknown</td>\n",
       "    </tr>\n",
       "  </tbody>\n",
       "</table>\n",
       "</div>"
      ],
      "text/plain": [
       "  animal_id            datetime                monthyear  \\\n",
       "0   A836161 2021-06-11 16:52:00  2021-06-11T16:52:00.000   \n",
       "1   A654946 2021-06-10 18:13:00  2021-06-10T18:13:00.000   \n",
       "2   A801583 2021-06-10 18:02:00  2021-06-10T18:02:00.000   \n",
       "3   A835490 2021-06-10 17:52:00  2021-06-10T17:52:00.000   \n",
       "4   A836457 2021-06-10 17:47:00  2021-06-10T17:47:00.000   \n",
       "\n",
       "             date_of_birth     outcome_type outcome_subtype animal_type  \\\n",
       "0  2021-05-16T00:00:00.000         Transfer         Partner         Dog   \n",
       "1  2011-05-27T00:00:00.000  Return to Owner             NaN         Dog   \n",
       "2  2017-08-06T00:00:00.000         Adoption             NaN         Dog   \n",
       "3  2020-11-28T00:00:00.000         Adoption             NaN         Dog   \n",
       "4  2021-05-10T00:00:00.000       Euthanasia       Suffering         Cat   \n",
       "\n",
       "  sex_upon_outcome age_upon_outcome                          breed  \\\n",
       "0      Intact Male          3 weeks  American Pit Bull Terrier Mix   \n",
       "1    Neutered Male         10 years        Chihuahua Shorthair Mix   \n",
       "2    Spayed Female          3 years       Boxer/Labrador Retriever   \n",
       "3    Neutered Male         6 months      Australian Cattle Dog Mix   \n",
       "4          Unknown             NULL         Domestic Shorthair Mix   \n",
       "\n",
       "         color     name  new_age1 new_sex1  \n",
       "0     Tricolor  UNKNOWN   3 weeks     Male  \n",
       "1        Brown   Chachi  10 years     Male  \n",
       "2    Tan/White    Molly   3 years   Female  \n",
       "3    Tan/Black     *Bow  6 months     Male  \n",
       "4  Brown Tabby  UNKNOWN      NULL  Unknown  "
      ]
     },
     "execution_count": 29,
     "metadata": {},
     "output_type": "execute_result"
    }
   ],
   "source": [
    "# To keep changes in DataFrame, overwrite the column\n",
    "animals_clean[['name']] = animals_only_names\n",
    "animals_clean.head()"
   ]
  },
  {
   "cell_type": "markdown",
   "metadata": {
    "heading_collapsed": true,
    "hidden": true
   },
   "source": [
    "## Fill with a Reasonable Value"
   ]
  },
  {
   "cell_type": "markdown",
   "metadata": {
    "hidden": true
   },
   "source": [
    "Other times we don't know what the missing value was but we might have a reasonable guess. This allows us to still use the data point (row) in our analysis."
   ]
  },
  {
   "cell_type": "markdown",
   "metadata": {
    "hidden": true
   },
   "source": [
    "> Beware that filling in missing values can lead to you drawing incorrect conclusions. If most of the data from a column are missing, it's going to appear that the value you filled it in with is more common that it actually was!"
   ]
  },
  {
   "cell_type": "markdown",
   "metadata": {
    "hidden": true
   },
   "source": [
    "A lot of the time we'll use the _mean_ or _median_ for numerical values. Sometimes values like $0$ make sense since it might make sense in the context of how the data was collected.\n",
    "\n",
    "With categorical values, you might choose to fill the missing values with the most common value (the _mode_)."
   ]
  },
  {
   "cell_type": "markdown",
   "metadata": {
    "hidden": true
   },
   "source": [
    "> Similar to the previous subsection, we can use the `fillna()` method after specifying the value to fill"
   ]
  },
  {
   "cell_type": "code",
   "execution_count": 30,
   "metadata": {
    "hidden": true
   },
   "outputs": [
    {
     "data": {
      "text/plain": [
       "Partner                273\n",
       "Foster                 132\n",
       "Suffering               23\n",
       "Snr                     20\n",
       "Rabies Risk             17\n",
       "At Vet                   9\n",
       "In Foster                6\n",
       "In Kennel                5\n",
       "Aggressive               2\n",
       "Medical                  2\n",
       "Field                    2\n",
       "Customer S               1\n",
       "Court/Investigation      1\n",
       "Enroute                  1\n",
       "Name: outcome_subtype, dtype: int64"
      ]
     },
     "execution_count": 30,
     "metadata": {},
     "output_type": "execute_result"
    }
   ],
   "source": [
    "## Let's find the most common value for `outcome_subtype`\n",
    "outcome_subtype_counts = animals['outcome_subtype'].value_counts()\n",
    "outcome_subtype_counts"
   ]
  },
  {
   "cell_type": "code",
   "execution_count": 31,
   "metadata": {
    "hidden": true
   },
   "outputs": [
    {
     "name": "stdout",
     "output_type": "stream",
     "text": [
      "Index(['Partner', 'Foster', 'Suffering', 'Snr', 'Rabies Risk', 'At Vet',\n",
      "       'In Foster', 'In Kennel', 'Aggressive', 'Medical', 'Field',\n",
      "       'Customer S', 'Court/Investigation', 'Enroute'],\n",
      "      dtype='object')\n"
     ]
    }
   ],
   "source": [
    "# This gets us just the values in order of most frequent to least frequent\n",
    "outcome_subtype_ordered = outcome_subtype_counts.index\n",
    "print(outcome_subtype_ordered)\n",
    "\n",
    "# Get the first one\n",
    "most_common_outcome_subtype = outcome_subtype_ordered[0]"
   ]
  },
  {
   "cell_type": "code",
   "execution_count": 36,
   "metadata": {
    "hidden": true
   },
   "outputs": [
    {
     "data": {
      "text/plain": [
       "'Partner'"
      ]
     },
     "execution_count": 36,
     "metadata": {},
     "output_type": "execute_result"
    }
   ],
   "source": [
    "# Using the built-in mode() method\n",
    "# Note this is Series so we have to get the first element (which is the value)\n",
    "most_common_outcome_subtype = animals['outcome_subtype'].mode()[0]\n",
    "most_common_outcome_subtype"
   ]
  },
  {
   "cell_type": "code",
   "execution_count": 37,
   "metadata": {
    "hidden": true,
    "scrolled": true
   },
   "outputs": [
    {
     "data": {
      "text/html": [
       "<div>\n",
       "<style scoped>\n",
       "    .dataframe tbody tr th:only-of-type {\n",
       "        vertical-align: middle;\n",
       "    }\n",
       "\n",
       "    .dataframe tbody tr th {\n",
       "        vertical-align: top;\n",
       "    }\n",
       "\n",
       "    .dataframe thead th {\n",
       "        text-align: right;\n",
       "    }\n",
       "</style>\n",
       "<table border=\"1\" class=\"dataframe\">\n",
       "  <thead>\n",
       "    <tr style=\"text-align: right;\">\n",
       "      <th></th>\n",
       "      <th>animal_id</th>\n",
       "      <th>datetime</th>\n",
       "      <th>monthyear</th>\n",
       "      <th>date_of_birth</th>\n",
       "      <th>outcome_type</th>\n",
       "      <th>outcome_subtype</th>\n",
       "      <th>animal_type</th>\n",
       "      <th>sex_upon_outcome</th>\n",
       "      <th>age_upon_outcome</th>\n",
       "      <th>breed</th>\n",
       "      <th>color</th>\n",
       "      <th>name</th>\n",
       "      <th>new_age1</th>\n",
       "      <th>new_sex1</th>\n",
       "      <th>outcome_subtype_missing</th>\n",
       "    </tr>\n",
       "  </thead>\n",
       "  <tbody>\n",
       "    <tr>\n",
       "      <th>0</th>\n",
       "      <td>A836161</td>\n",
       "      <td>2021-06-11 16:52:00</td>\n",
       "      <td>2021-06-11T16:52:00.000</td>\n",
       "      <td>2021-05-16T00:00:00.000</td>\n",
       "      <td>Transfer</td>\n",
       "      <td>Partner</td>\n",
       "      <td>Dog</td>\n",
       "      <td>Intact Male</td>\n",
       "      <td>3 weeks</td>\n",
       "      <td>American Pit Bull Terrier Mix</td>\n",
       "      <td>Tricolor</td>\n",
       "      <td>UNKNOWN</td>\n",
       "      <td>3 weeks</td>\n",
       "      <td>Male</td>\n",
       "      <td>False</td>\n",
       "    </tr>\n",
       "    <tr>\n",
       "      <th>1</th>\n",
       "      <td>A654946</td>\n",
       "      <td>2021-06-10 18:13:00</td>\n",
       "      <td>2021-06-10T18:13:00.000</td>\n",
       "      <td>2011-05-27T00:00:00.000</td>\n",
       "      <td>Return to Owner</td>\n",
       "      <td>Partner</td>\n",
       "      <td>Dog</td>\n",
       "      <td>Neutered Male</td>\n",
       "      <td>10 years</td>\n",
       "      <td>Chihuahua Shorthair Mix</td>\n",
       "      <td>Brown</td>\n",
       "      <td>Chachi</td>\n",
       "      <td>10 years</td>\n",
       "      <td>Male</td>\n",
       "      <td>True</td>\n",
       "    </tr>\n",
       "    <tr>\n",
       "      <th>2</th>\n",
       "      <td>A801583</td>\n",
       "      <td>2021-06-10 18:02:00</td>\n",
       "      <td>2021-06-10T18:02:00.000</td>\n",
       "      <td>2017-08-06T00:00:00.000</td>\n",
       "      <td>Adoption</td>\n",
       "      <td>Partner</td>\n",
       "      <td>Dog</td>\n",
       "      <td>Spayed Female</td>\n",
       "      <td>3 years</td>\n",
       "      <td>Boxer/Labrador Retriever</td>\n",
       "      <td>Tan/White</td>\n",
       "      <td>Molly</td>\n",
       "      <td>3 years</td>\n",
       "      <td>Female</td>\n",
       "      <td>True</td>\n",
       "    </tr>\n",
       "    <tr>\n",
       "      <th>3</th>\n",
       "      <td>A835490</td>\n",
       "      <td>2021-06-10 17:52:00</td>\n",
       "      <td>2021-06-10T17:52:00.000</td>\n",
       "      <td>2020-11-28T00:00:00.000</td>\n",
       "      <td>Adoption</td>\n",
       "      <td>Partner</td>\n",
       "      <td>Dog</td>\n",
       "      <td>Neutered Male</td>\n",
       "      <td>6 months</td>\n",
       "      <td>Australian Cattle Dog Mix</td>\n",
       "      <td>Tan/Black</td>\n",
       "      <td>*Bow</td>\n",
       "      <td>6 months</td>\n",
       "      <td>Male</td>\n",
       "      <td>True</td>\n",
       "    </tr>\n",
       "    <tr>\n",
       "      <th>4</th>\n",
       "      <td>A836457</td>\n",
       "      <td>2021-06-10 17:47:00</td>\n",
       "      <td>2021-06-10T17:47:00.000</td>\n",
       "      <td>2021-05-10T00:00:00.000</td>\n",
       "      <td>Euthanasia</td>\n",
       "      <td>Suffering</td>\n",
       "      <td>Cat</td>\n",
       "      <td>Unknown</td>\n",
       "      <td>NULL</td>\n",
       "      <td>Domestic Shorthair Mix</td>\n",
       "      <td>Brown Tabby</td>\n",
       "      <td>UNKNOWN</td>\n",
       "      <td>NULL</td>\n",
       "      <td>Unknown</td>\n",
       "      <td>False</td>\n",
       "    </tr>\n",
       "  </tbody>\n",
       "</table>\n",
       "</div>"
      ],
      "text/plain": [
       "  animal_id            datetime                monthyear  \\\n",
       "0   A836161 2021-06-11 16:52:00  2021-06-11T16:52:00.000   \n",
       "1   A654946 2021-06-10 18:13:00  2021-06-10T18:13:00.000   \n",
       "2   A801583 2021-06-10 18:02:00  2021-06-10T18:02:00.000   \n",
       "3   A835490 2021-06-10 17:52:00  2021-06-10T17:52:00.000   \n",
       "4   A836457 2021-06-10 17:47:00  2021-06-10T17:47:00.000   \n",
       "\n",
       "             date_of_birth     outcome_type outcome_subtype animal_type  \\\n",
       "0  2021-05-16T00:00:00.000         Transfer         Partner         Dog   \n",
       "1  2011-05-27T00:00:00.000  Return to Owner         Partner         Dog   \n",
       "2  2017-08-06T00:00:00.000         Adoption         Partner         Dog   \n",
       "3  2020-11-28T00:00:00.000         Adoption         Partner         Dog   \n",
       "4  2021-05-10T00:00:00.000       Euthanasia       Suffering         Cat   \n",
       "\n",
       "  sex_upon_outcome age_upon_outcome                          breed  \\\n",
       "0      Intact Male          3 weeks  American Pit Bull Terrier Mix   \n",
       "1    Neutered Male         10 years        Chihuahua Shorthair Mix   \n",
       "2    Spayed Female          3 years       Boxer/Labrador Retriever   \n",
       "3    Neutered Male         6 months      Australian Cattle Dog Mix   \n",
       "4          Unknown             NULL         Domestic Shorthair Mix   \n",
       "\n",
       "         color     name  new_age1 new_sex1  outcome_subtype_missing  \n",
       "0     Tricolor  UNKNOWN   3 weeks     Male                    False  \n",
       "1        Brown   Chachi  10 years     Male                     True  \n",
       "2    Tan/White    Molly   3 years   Female                     True  \n",
       "3    Tan/Black     *Bow  6 months     Male                     True  \n",
       "4  Brown Tabby  UNKNOWN      NULL  Unknown                    False  "
      ]
     },
     "execution_count": 37,
     "metadata": {},
     "output_type": "execute_result"
    }
   ],
   "source": [
    "# Similar to the previous subsection, we can use fillna() and update the DF\n",
    "animals_clean['outcome_subtype'] = animals['outcome_subtype'].fillna(most_common_outcome_subtype)\n",
    "animals_clean.head()"
   ]
  },
  {
   "cell_type": "markdown",
   "metadata": {
    "heading_collapsed": true,
    "hidden": true
   },
   "source": [
    "## Specify That the Data Were Missing"
   ]
  },
  {
   "cell_type": "markdown",
   "metadata": {
    "hidden": true
   },
   "source": [
    "Even after filling in missing values, it might make sense to specify that there were missing data. You can document that the data was missing by creating a new column that represents whether the data was originally missing or not."
   ]
  },
  {
   "cell_type": "markdown",
   "metadata": {
    "hidden": true
   },
   "source": [
    "This can be helpful when you suspect that the fact the data was missing could be important for an analysis."
   ]
  },
  {
   "cell_type": "markdown",
   "metadata": {
    "hidden": true
   },
   "source": [
    "> Since we already removed some missing values, we're going to reference back to the original `animals` DataFrame. (Good thing we didn't overwrite it! 😉)"
   ]
  },
  {
   "cell_type": "code",
   "execution_count": 38,
   "metadata": {
    "hidden": true
   },
   "outputs": [
    {
     "data": {
      "text/plain": [
       "0      False\n",
       "1       True\n",
       "2       True\n",
       "3       True\n",
       "4      False\n",
       "       ...  \n",
       "995     True\n",
       "996     True\n",
       "997     True\n",
       "998     True\n",
       "999    False\n",
       "Name: outcome_subtype, Length: 1000, dtype: bool"
      ]
     },
     "execution_count": 38,
     "metadata": {},
     "output_type": "execute_result"
    }
   ],
   "source": [
    "# Let's specify which values were originally missing in \"outcome_subtype\"\n",
    "missing_outcome_subtypes = animals['outcome_subtype'].isna()\n",
    "missing_outcome_subtypes"
   ]
  },
  {
   "cell_type": "code",
   "execution_count": 39,
   "metadata": {
    "hidden": true
   },
   "outputs": [
    {
     "data": {
      "text/html": [
       "<div>\n",
       "<style scoped>\n",
       "    .dataframe tbody tr th:only-of-type {\n",
       "        vertical-align: middle;\n",
       "    }\n",
       "\n",
       "    .dataframe tbody tr th {\n",
       "        vertical-align: top;\n",
       "    }\n",
       "\n",
       "    .dataframe thead th {\n",
       "        text-align: right;\n",
       "    }\n",
       "</style>\n",
       "<table border=\"1\" class=\"dataframe\">\n",
       "  <thead>\n",
       "    <tr style=\"text-align: right;\">\n",
       "      <th></th>\n",
       "      <th>animal_id</th>\n",
       "      <th>datetime</th>\n",
       "      <th>monthyear</th>\n",
       "      <th>date_of_birth</th>\n",
       "      <th>outcome_type</th>\n",
       "      <th>outcome_subtype</th>\n",
       "      <th>animal_type</th>\n",
       "      <th>sex_upon_outcome</th>\n",
       "      <th>age_upon_outcome</th>\n",
       "      <th>breed</th>\n",
       "      <th>color</th>\n",
       "      <th>name</th>\n",
       "      <th>new_age1</th>\n",
       "      <th>new_sex1</th>\n",
       "      <th>outcome_subtype_missing</th>\n",
       "    </tr>\n",
       "  </thead>\n",
       "  <tbody>\n",
       "    <tr>\n",
       "      <th>0</th>\n",
       "      <td>A836161</td>\n",
       "      <td>2021-06-11 16:52:00</td>\n",
       "      <td>2021-06-11T16:52:00.000</td>\n",
       "      <td>2021-05-16T00:00:00.000</td>\n",
       "      <td>Transfer</td>\n",
       "      <td>Partner</td>\n",
       "      <td>Dog</td>\n",
       "      <td>Intact Male</td>\n",
       "      <td>3 weeks</td>\n",
       "      <td>American Pit Bull Terrier Mix</td>\n",
       "      <td>Tricolor</td>\n",
       "      <td>UNKNOWN</td>\n",
       "      <td>3 weeks</td>\n",
       "      <td>Male</td>\n",
       "      <td>False</td>\n",
       "    </tr>\n",
       "    <tr>\n",
       "      <th>1</th>\n",
       "      <td>A654946</td>\n",
       "      <td>2021-06-10 18:13:00</td>\n",
       "      <td>2021-06-10T18:13:00.000</td>\n",
       "      <td>2011-05-27T00:00:00.000</td>\n",
       "      <td>Return to Owner</td>\n",
       "      <td>Partner</td>\n",
       "      <td>Dog</td>\n",
       "      <td>Neutered Male</td>\n",
       "      <td>10 years</td>\n",
       "      <td>Chihuahua Shorthair Mix</td>\n",
       "      <td>Brown</td>\n",
       "      <td>Chachi</td>\n",
       "      <td>10 years</td>\n",
       "      <td>Male</td>\n",
       "      <td>True</td>\n",
       "    </tr>\n",
       "    <tr>\n",
       "      <th>2</th>\n",
       "      <td>A801583</td>\n",
       "      <td>2021-06-10 18:02:00</td>\n",
       "      <td>2021-06-10T18:02:00.000</td>\n",
       "      <td>2017-08-06T00:00:00.000</td>\n",
       "      <td>Adoption</td>\n",
       "      <td>Partner</td>\n",
       "      <td>Dog</td>\n",
       "      <td>Spayed Female</td>\n",
       "      <td>3 years</td>\n",
       "      <td>Boxer/Labrador Retriever</td>\n",
       "      <td>Tan/White</td>\n",
       "      <td>Molly</td>\n",
       "      <td>3 years</td>\n",
       "      <td>Female</td>\n",
       "      <td>True</td>\n",
       "    </tr>\n",
       "    <tr>\n",
       "      <th>3</th>\n",
       "      <td>A835490</td>\n",
       "      <td>2021-06-10 17:52:00</td>\n",
       "      <td>2021-06-10T17:52:00.000</td>\n",
       "      <td>2020-11-28T00:00:00.000</td>\n",
       "      <td>Adoption</td>\n",
       "      <td>Partner</td>\n",
       "      <td>Dog</td>\n",
       "      <td>Neutered Male</td>\n",
       "      <td>6 months</td>\n",
       "      <td>Australian Cattle Dog Mix</td>\n",
       "      <td>Tan/Black</td>\n",
       "      <td>*Bow</td>\n",
       "      <td>6 months</td>\n",
       "      <td>Male</td>\n",
       "      <td>True</td>\n",
       "    </tr>\n",
       "    <tr>\n",
       "      <th>4</th>\n",
       "      <td>A836457</td>\n",
       "      <td>2021-06-10 17:47:00</td>\n",
       "      <td>2021-06-10T17:47:00.000</td>\n",
       "      <td>2021-05-10T00:00:00.000</td>\n",
       "      <td>Euthanasia</td>\n",
       "      <td>Suffering</td>\n",
       "      <td>Cat</td>\n",
       "      <td>Unknown</td>\n",
       "      <td>NULL</td>\n",
       "      <td>Domestic Shorthair Mix</td>\n",
       "      <td>Brown Tabby</td>\n",
       "      <td>UNKNOWN</td>\n",
       "      <td>NULL</td>\n",
       "      <td>Unknown</td>\n",
       "      <td>False</td>\n",
       "    </tr>\n",
       "  </tbody>\n",
       "</table>\n",
       "</div>"
      ],
      "text/plain": [
       "  animal_id            datetime                monthyear  \\\n",
       "0   A836161 2021-06-11 16:52:00  2021-06-11T16:52:00.000   \n",
       "1   A654946 2021-06-10 18:13:00  2021-06-10T18:13:00.000   \n",
       "2   A801583 2021-06-10 18:02:00  2021-06-10T18:02:00.000   \n",
       "3   A835490 2021-06-10 17:52:00  2021-06-10T17:52:00.000   \n",
       "4   A836457 2021-06-10 17:47:00  2021-06-10T17:47:00.000   \n",
       "\n",
       "             date_of_birth     outcome_type outcome_subtype animal_type  \\\n",
       "0  2021-05-16T00:00:00.000         Transfer         Partner         Dog   \n",
       "1  2011-05-27T00:00:00.000  Return to Owner         Partner         Dog   \n",
       "2  2017-08-06T00:00:00.000         Adoption         Partner         Dog   \n",
       "3  2020-11-28T00:00:00.000         Adoption         Partner         Dog   \n",
       "4  2021-05-10T00:00:00.000       Euthanasia       Suffering         Cat   \n",
       "\n",
       "  sex_upon_outcome age_upon_outcome                          breed  \\\n",
       "0      Intact Male          3 weeks  American Pit Bull Terrier Mix   \n",
       "1    Neutered Male         10 years        Chihuahua Shorthair Mix   \n",
       "2    Spayed Female          3 years       Boxer/Labrador Retriever   \n",
       "3    Neutered Male         6 months      Australian Cattle Dog Mix   \n",
       "4          Unknown             NULL         Domestic Shorthair Mix   \n",
       "\n",
       "         color     name  new_age1 new_sex1  outcome_subtype_missing  \n",
       "0     Tricolor  UNKNOWN   3 weeks     Male                    False  \n",
       "1        Brown   Chachi  10 years     Male                     True  \n",
       "2    Tan/White    Molly   3 years   Female                     True  \n",
       "3    Tan/Black     *Bow  6 months     Male                     True  \n",
       "4  Brown Tabby  UNKNOWN      NULL  Unknown                    False  "
      ]
     },
     "execution_count": 39,
     "metadata": {},
     "output_type": "execute_result"
    }
   ],
   "source": [
    "# Create new column for missing outcome subtypes matched w/ replaced values\n",
    "animals_clean['outcome_subtype_missing'] = missing_outcome_subtypes\n",
    "animals_clean.head()"
   ]
  },
  {
   "cell_type": "markdown",
   "metadata": {
    "heading_collapsed": true,
    "hidden": true
   },
   "source": [
    "## Drop Missing Data"
   ]
  },
  {
   "cell_type": "markdown",
   "metadata": {
    "hidden": true
   },
   "source": [
    "You should try to keep as much relevant data as possible, but sometimes the other methods don't make as much sense and it's better to remove or **drop** the missing data."
   ]
  },
  {
   "cell_type": "markdown",
   "metadata": {
    "hidden": true
   },
   "source": [
    "We typically drop missing data if very little data would be lost and/or trying to fill in the values wouldn't make sense for our use case. For example, if you're trying to predict the outcome based on the other features/columns it might not make sense to fill in those missing values with something you can't confirm."
   ]
  },
  {
   "cell_type": "markdown",
   "metadata": {
    "hidden": true
   },
   "source": [
    "> We noticed that `outcome_type` had only two missing values. It might not be worth trying to handle those two missing values. We can pretend that the `outcome_type` was an important feature and without it the rest of the row's data is of little importance to us.\n",
    ">\n",
    "> So we'll decide to drop the row if a value from `outcome_type` is missing. We'll use Pandas' [`dropna()` method](https://pandas.pydata.org/pandas-docs/stable/reference/api/pandas.DataFrame.dropna.html)."
   ]
  },
  {
   "cell_type": "code",
   "execution_count": 40,
   "metadata": {
    "hidden": true
   },
   "outputs": [
    {
     "data": {
      "text/html": [
       "<div>\n",
       "<style scoped>\n",
       "    .dataframe tbody tr th:only-of-type {\n",
       "        vertical-align: middle;\n",
       "    }\n",
       "\n",
       "    .dataframe tbody tr th {\n",
       "        vertical-align: top;\n",
       "    }\n",
       "\n",
       "    .dataframe thead th {\n",
       "        text-align: right;\n",
       "    }\n",
       "</style>\n",
       "<table border=\"1\" class=\"dataframe\">\n",
       "  <thead>\n",
       "    <tr style=\"text-align: right;\">\n",
       "      <th></th>\n",
       "      <th>animal_id</th>\n",
       "      <th>datetime</th>\n",
       "      <th>monthyear</th>\n",
       "      <th>date_of_birth</th>\n",
       "      <th>outcome_type</th>\n",
       "      <th>outcome_subtype</th>\n",
       "      <th>animal_type</th>\n",
       "      <th>sex_upon_outcome</th>\n",
       "      <th>age_upon_outcome</th>\n",
       "      <th>breed</th>\n",
       "      <th>color</th>\n",
       "      <th>name</th>\n",
       "      <th>new_age1</th>\n",
       "      <th>new_sex1</th>\n",
       "      <th>outcome_subtype_missing</th>\n",
       "    </tr>\n",
       "  </thead>\n",
       "  <tbody>\n",
       "    <tr>\n",
       "      <th>0</th>\n",
       "      <td>A836161</td>\n",
       "      <td>2021-06-11 16:52:00</td>\n",
       "      <td>2021-06-11T16:52:00.000</td>\n",
       "      <td>2021-05-16T00:00:00.000</td>\n",
       "      <td>Transfer</td>\n",
       "      <td>Partner</td>\n",
       "      <td>Dog</td>\n",
       "      <td>Intact Male</td>\n",
       "      <td>3 weeks</td>\n",
       "      <td>American Pit Bull Terrier Mix</td>\n",
       "      <td>Tricolor</td>\n",
       "      <td>UNKNOWN</td>\n",
       "      <td>3 weeks</td>\n",
       "      <td>Male</td>\n",
       "      <td>False</td>\n",
       "    </tr>\n",
       "    <tr>\n",
       "      <th>1</th>\n",
       "      <td>A654946</td>\n",
       "      <td>2021-06-10 18:13:00</td>\n",
       "      <td>2021-06-10T18:13:00.000</td>\n",
       "      <td>2011-05-27T00:00:00.000</td>\n",
       "      <td>Return to Owner</td>\n",
       "      <td>Partner</td>\n",
       "      <td>Dog</td>\n",
       "      <td>Neutered Male</td>\n",
       "      <td>10 years</td>\n",
       "      <td>Chihuahua Shorthair Mix</td>\n",
       "      <td>Brown</td>\n",
       "      <td>Chachi</td>\n",
       "      <td>10 years</td>\n",
       "      <td>Male</td>\n",
       "      <td>True</td>\n",
       "    </tr>\n",
       "    <tr>\n",
       "      <th>2</th>\n",
       "      <td>A801583</td>\n",
       "      <td>2021-06-10 18:02:00</td>\n",
       "      <td>2021-06-10T18:02:00.000</td>\n",
       "      <td>2017-08-06T00:00:00.000</td>\n",
       "      <td>Adoption</td>\n",
       "      <td>Partner</td>\n",
       "      <td>Dog</td>\n",
       "      <td>Spayed Female</td>\n",
       "      <td>3 years</td>\n",
       "      <td>Boxer/Labrador Retriever</td>\n",
       "      <td>Tan/White</td>\n",
       "      <td>Molly</td>\n",
       "      <td>3 years</td>\n",
       "      <td>Female</td>\n",
       "      <td>True</td>\n",
       "    </tr>\n",
       "    <tr>\n",
       "      <th>3</th>\n",
       "      <td>A835490</td>\n",
       "      <td>2021-06-10 17:52:00</td>\n",
       "      <td>2021-06-10T17:52:00.000</td>\n",
       "      <td>2020-11-28T00:00:00.000</td>\n",
       "      <td>Adoption</td>\n",
       "      <td>Partner</td>\n",
       "      <td>Dog</td>\n",
       "      <td>Neutered Male</td>\n",
       "      <td>6 months</td>\n",
       "      <td>Australian Cattle Dog Mix</td>\n",
       "      <td>Tan/Black</td>\n",
       "      <td>*Bow</td>\n",
       "      <td>6 months</td>\n",
       "      <td>Male</td>\n",
       "      <td>True</td>\n",
       "    </tr>\n",
       "    <tr>\n",
       "      <th>4</th>\n",
       "      <td>A836457</td>\n",
       "      <td>2021-06-10 17:47:00</td>\n",
       "      <td>2021-06-10T17:47:00.000</td>\n",
       "      <td>2021-05-10T00:00:00.000</td>\n",
       "      <td>Euthanasia</td>\n",
       "      <td>Suffering</td>\n",
       "      <td>Cat</td>\n",
       "      <td>Unknown</td>\n",
       "      <td>NULL</td>\n",
       "      <td>Domestic Shorthair Mix</td>\n",
       "      <td>Brown Tabby</td>\n",
       "      <td>UNKNOWN</td>\n",
       "      <td>NULL</td>\n",
       "      <td>Unknown</td>\n",
       "      <td>False</td>\n",
       "    </tr>\n",
       "  </tbody>\n",
       "</table>\n",
       "</div>"
      ],
      "text/plain": [
       "  animal_id            datetime                monthyear  \\\n",
       "0   A836161 2021-06-11 16:52:00  2021-06-11T16:52:00.000   \n",
       "1   A654946 2021-06-10 18:13:00  2021-06-10T18:13:00.000   \n",
       "2   A801583 2021-06-10 18:02:00  2021-06-10T18:02:00.000   \n",
       "3   A835490 2021-06-10 17:52:00  2021-06-10T17:52:00.000   \n",
       "4   A836457 2021-06-10 17:47:00  2021-06-10T17:47:00.000   \n",
       "\n",
       "             date_of_birth     outcome_type outcome_subtype animal_type  \\\n",
       "0  2021-05-16T00:00:00.000         Transfer         Partner         Dog   \n",
       "1  2011-05-27T00:00:00.000  Return to Owner         Partner         Dog   \n",
       "2  2017-08-06T00:00:00.000         Adoption         Partner         Dog   \n",
       "3  2020-11-28T00:00:00.000         Adoption         Partner         Dog   \n",
       "4  2021-05-10T00:00:00.000       Euthanasia       Suffering         Cat   \n",
       "\n",
       "  sex_upon_outcome age_upon_outcome                          breed  \\\n",
       "0      Intact Male          3 weeks  American Pit Bull Terrier Mix   \n",
       "1    Neutered Male         10 years        Chihuahua Shorthair Mix   \n",
       "2    Spayed Female          3 years       Boxer/Labrador Retriever   \n",
       "3    Neutered Male         6 months      Australian Cattle Dog Mix   \n",
       "4          Unknown             NULL         Domestic Shorthair Mix   \n",
       "\n",
       "         color     name  new_age1 new_sex1  outcome_subtype_missing  \n",
       "0     Tricolor  UNKNOWN   3 weeks     Male                    False  \n",
       "1        Brown   Chachi  10 years     Male                     True  \n",
       "2    Tan/White    Molly   3 years   Female                     True  \n",
       "3    Tan/Black     *Bow  6 months     Male                     True  \n",
       "4  Brown Tabby  UNKNOWN      NULL  Unknown                    False  "
      ]
     },
     "execution_count": 40,
     "metadata": {},
     "output_type": "execute_result"
    }
   ],
   "source": [
    "# This will drop any row (axis=0) or column (axis=1) that has missing values\n",
    "animals_clean = animals_clean.dropna(   # Note we're overwriting animals_clean\n",
    "                                axis=0, # This is the default & will drop rows; axis=1 for cols\n",
    "                                subset=['outcome_type'] # Specific labels to consider (defaults to all)\n",
    ")\n",
    "animals_clean.head()"
   ]
  },
  {
   "cell_type": "markdown",
   "metadata": {
    "heading_collapsed": true,
    "hidden": true
   },
   "source": [
    "## Comparing Before and After"
   ]
  },
  {
   "cell_type": "markdown",
   "metadata": {
    "hidden": true
   },
   "source": [
    "We can now see all the work we did!"
   ]
  },
  {
   "cell_type": "code",
   "execution_count": 41,
   "metadata": {
    "hidden": true
   },
   "outputs": [
    {
     "name": "stdout",
     "output_type": "stream",
     "text": [
      "<class 'pandas.core.frame.DataFrame'>\n",
      "RangeIndex: 1000 entries, 0 to 999\n",
      "Data columns (total 14 columns):\n",
      " #   Column            Non-Null Count  Dtype         \n",
      "---  ------            --------------  -----         \n",
      " 0   animal_id         1000 non-null   object        \n",
      " 1   datetime          1000 non-null   datetime64[ns]\n",
      " 2   monthyear         1000 non-null   object        \n",
      " 3   date_of_birth     1000 non-null   object        \n",
      " 4   outcome_type      1000 non-null   object        \n",
      " 5   outcome_subtype   494 non-null    object        \n",
      " 6   animal_type       1000 non-null   object        \n",
      " 7   sex_upon_outcome  1000 non-null   object        \n",
      " 8   age_upon_outcome  1000 non-null   object        \n",
      " 9   breed             1000 non-null   object        \n",
      " 10  color             1000 non-null   object        \n",
      " 11  name              738 non-null    object        \n",
      " 12  new_age1          1000 non-null   object        \n",
      " 13  new_sex1          1000 non-null   object        \n",
      "dtypes: datetime64[ns](1), object(13)\n",
      "memory usage: 109.5+ KB\n"
     ]
    }
   ],
   "source": [
    "# Original data\n",
    "animals.info()"
   ]
  },
  {
   "cell_type": "code",
   "execution_count": 42,
   "metadata": {
    "hidden": true
   },
   "outputs": [
    {
     "name": "stdout",
     "output_type": "stream",
     "text": [
      "<class 'pandas.core.frame.DataFrame'>\n",
      "Int64Index: 1000 entries, 0 to 999\n",
      "Data columns (total 15 columns):\n",
      " #   Column                   Non-Null Count  Dtype         \n",
      "---  ------                   --------------  -----         \n",
      " 0   animal_id                1000 non-null   object        \n",
      " 1   datetime                 1000 non-null   datetime64[ns]\n",
      " 2   monthyear                1000 non-null   object        \n",
      " 3   date_of_birth            1000 non-null   object        \n",
      " 4   outcome_type             1000 non-null   object        \n",
      " 5   outcome_subtype          1000 non-null   object        \n",
      " 6   animal_type              1000 non-null   object        \n",
      " 7   sex_upon_outcome         1000 non-null   object        \n",
      " 8   age_upon_outcome         1000 non-null   object        \n",
      " 9   breed                    1000 non-null   object        \n",
      " 10  color                    1000 non-null   object        \n",
      " 11  name                     1000 non-null   object        \n",
      " 12  new_age1                 1000 non-null   object        \n",
      " 13  new_sex1                 1000 non-null   object        \n",
      " 14  outcome_subtype_missing  1000 non-null   bool          \n",
      "dtypes: bool(1), datetime64[ns](1), object(13)\n",
      "memory usage: 118.2+ KB\n"
     ]
    }
   ],
   "source": [
    "# Missing data cleaned\n",
    "animals_clean.info()"
   ]
  },
  {
   "cell_type": "markdown",
   "metadata": {
    "heading_collapsed": true
   },
   "source": [
    "# Level Up: `.applymap()`"
   ]
  },
  {
   "cell_type": "markdown",
   "metadata": {
    "hidden": true
   },
   "source": [
    "`.applymap()` is used to apply a transformation to each element of a DataFrame."
   ]
  },
  {
   "cell_type": "code",
   "execution_count": 43,
   "metadata": {
    "hidden": true,
    "scrolled": true
   },
   "outputs": [
    {
     "data": {
      "text/html": [
       "<div>\n",
       "<style scoped>\n",
       "    .dataframe tbody tr th:only-of-type {\n",
       "        vertical-align: middle;\n",
       "    }\n",
       "\n",
       "    .dataframe tbody tr th {\n",
       "        vertical-align: top;\n",
       "    }\n",
       "\n",
       "    .dataframe thead th {\n",
       "        text-align: right;\n",
       "    }\n",
       "</style>\n",
       "<table border=\"1\" class=\"dataframe\">\n",
       "  <thead>\n",
       "    <tr style=\"text-align: right;\">\n",
       "      <th></th>\n",
       "      <th>animal_id</th>\n",
       "      <th>datetime</th>\n",
       "      <th>monthyear</th>\n",
       "      <th>date_of_birth</th>\n",
       "      <th>outcome_type</th>\n",
       "      <th>outcome_subtype</th>\n",
       "      <th>animal_type</th>\n",
       "      <th>sex_upon_outcome</th>\n",
       "      <th>age_upon_outcome</th>\n",
       "      <th>breed</th>\n",
       "      <th>color</th>\n",
       "      <th>name</th>\n",
       "      <th>new_age1</th>\n",
       "      <th>new_sex1</th>\n",
       "    </tr>\n",
       "  </thead>\n",
       "  <tbody>\n",
       "    <tr>\n",
       "      <th>0</th>\n",
       "      <td>&lt;class 'str'&gt;</td>\n",
       "      <td>&lt;class 'pandas._libs.tslibs.timestamps.Timesta...</td>\n",
       "      <td>&lt;class 'str'&gt;</td>\n",
       "      <td>&lt;class 'str'&gt;</td>\n",
       "      <td>&lt;class 'str'&gt;</td>\n",
       "      <td>&lt;class 'str'&gt;</td>\n",
       "      <td>&lt;class 'str'&gt;</td>\n",
       "      <td>&lt;class 'str'&gt;</td>\n",
       "      <td>&lt;class 'str'&gt;</td>\n",
       "      <td>&lt;class 'str'&gt;</td>\n",
       "      <td>&lt;class 'str'&gt;</td>\n",
       "      <td>&lt;class 'float'&gt;</td>\n",
       "      <td>&lt;class 'str'&gt;</td>\n",
       "      <td>&lt;class 'str'&gt;</td>\n",
       "    </tr>\n",
       "    <tr>\n",
       "      <th>1</th>\n",
       "      <td>&lt;class 'str'&gt;</td>\n",
       "      <td>&lt;class 'pandas._libs.tslibs.timestamps.Timesta...</td>\n",
       "      <td>&lt;class 'str'&gt;</td>\n",
       "      <td>&lt;class 'str'&gt;</td>\n",
       "      <td>&lt;class 'str'&gt;</td>\n",
       "      <td>&lt;class 'float'&gt;</td>\n",
       "      <td>&lt;class 'str'&gt;</td>\n",
       "      <td>&lt;class 'str'&gt;</td>\n",
       "      <td>&lt;class 'str'&gt;</td>\n",
       "      <td>&lt;class 'str'&gt;</td>\n",
       "      <td>&lt;class 'str'&gt;</td>\n",
       "      <td>&lt;class 'str'&gt;</td>\n",
       "      <td>&lt;class 'str'&gt;</td>\n",
       "      <td>&lt;class 'str'&gt;</td>\n",
       "    </tr>\n",
       "    <tr>\n",
       "      <th>2</th>\n",
       "      <td>&lt;class 'str'&gt;</td>\n",
       "      <td>&lt;class 'pandas._libs.tslibs.timestamps.Timesta...</td>\n",
       "      <td>&lt;class 'str'&gt;</td>\n",
       "      <td>&lt;class 'str'&gt;</td>\n",
       "      <td>&lt;class 'str'&gt;</td>\n",
       "      <td>&lt;class 'float'&gt;</td>\n",
       "      <td>&lt;class 'str'&gt;</td>\n",
       "      <td>&lt;class 'str'&gt;</td>\n",
       "      <td>&lt;class 'str'&gt;</td>\n",
       "      <td>&lt;class 'str'&gt;</td>\n",
       "      <td>&lt;class 'str'&gt;</td>\n",
       "      <td>&lt;class 'str'&gt;</td>\n",
       "      <td>&lt;class 'str'&gt;</td>\n",
       "      <td>&lt;class 'str'&gt;</td>\n",
       "    </tr>\n",
       "    <tr>\n",
       "      <th>3</th>\n",
       "      <td>&lt;class 'str'&gt;</td>\n",
       "      <td>&lt;class 'pandas._libs.tslibs.timestamps.Timesta...</td>\n",
       "      <td>&lt;class 'str'&gt;</td>\n",
       "      <td>&lt;class 'str'&gt;</td>\n",
       "      <td>&lt;class 'str'&gt;</td>\n",
       "      <td>&lt;class 'float'&gt;</td>\n",
       "      <td>&lt;class 'str'&gt;</td>\n",
       "      <td>&lt;class 'str'&gt;</td>\n",
       "      <td>&lt;class 'str'&gt;</td>\n",
       "      <td>&lt;class 'str'&gt;</td>\n",
       "      <td>&lt;class 'str'&gt;</td>\n",
       "      <td>&lt;class 'str'&gt;</td>\n",
       "      <td>&lt;class 'str'&gt;</td>\n",
       "      <td>&lt;class 'str'&gt;</td>\n",
       "    </tr>\n",
       "    <tr>\n",
       "      <th>4</th>\n",
       "      <td>&lt;class 'str'&gt;</td>\n",
       "      <td>&lt;class 'pandas._libs.tslibs.timestamps.Timesta...</td>\n",
       "      <td>&lt;class 'str'&gt;</td>\n",
       "      <td>&lt;class 'str'&gt;</td>\n",
       "      <td>&lt;class 'str'&gt;</td>\n",
       "      <td>&lt;class 'str'&gt;</td>\n",
       "      <td>&lt;class 'str'&gt;</td>\n",
       "      <td>&lt;class 'str'&gt;</td>\n",
       "      <td>&lt;class 'str'&gt;</td>\n",
       "      <td>&lt;class 'str'&gt;</td>\n",
       "      <td>&lt;class 'str'&gt;</td>\n",
       "      <td>&lt;class 'float'&gt;</td>\n",
       "      <td>&lt;class 'str'&gt;</td>\n",
       "      <td>&lt;class 'str'&gt;</td>\n",
       "    </tr>\n",
       "    <tr>\n",
       "      <th>...</th>\n",
       "      <td>...</td>\n",
       "      <td>...</td>\n",
       "      <td>...</td>\n",
       "      <td>...</td>\n",
       "      <td>...</td>\n",
       "      <td>...</td>\n",
       "      <td>...</td>\n",
       "      <td>...</td>\n",
       "      <td>...</td>\n",
       "      <td>...</td>\n",
       "      <td>...</td>\n",
       "      <td>...</td>\n",
       "      <td>...</td>\n",
       "      <td>...</td>\n",
       "    </tr>\n",
       "    <tr>\n",
       "      <th>995</th>\n",
       "      <td>&lt;class 'str'&gt;</td>\n",
       "      <td>&lt;class 'pandas._libs.tslibs.timestamps.Timesta...</td>\n",
       "      <td>&lt;class 'str'&gt;</td>\n",
       "      <td>&lt;class 'str'&gt;</td>\n",
       "      <td>&lt;class 'str'&gt;</td>\n",
       "      <td>&lt;class 'float'&gt;</td>\n",
       "      <td>&lt;class 'str'&gt;</td>\n",
       "      <td>&lt;class 'str'&gt;</td>\n",
       "      <td>&lt;class 'str'&gt;</td>\n",
       "      <td>&lt;class 'str'&gt;</td>\n",
       "      <td>&lt;class 'str'&gt;</td>\n",
       "      <td>&lt;class 'float'&gt;</td>\n",
       "      <td>&lt;class 'str'&gt;</td>\n",
       "      <td>&lt;class 'str'&gt;</td>\n",
       "    </tr>\n",
       "    <tr>\n",
       "      <th>996</th>\n",
       "      <td>&lt;class 'str'&gt;</td>\n",
       "      <td>&lt;class 'pandas._libs.tslibs.timestamps.Timesta...</td>\n",
       "      <td>&lt;class 'str'&gt;</td>\n",
       "      <td>&lt;class 'str'&gt;</td>\n",
       "      <td>&lt;class 'str'&gt;</td>\n",
       "      <td>&lt;class 'float'&gt;</td>\n",
       "      <td>&lt;class 'str'&gt;</td>\n",
       "      <td>&lt;class 'str'&gt;</td>\n",
       "      <td>&lt;class 'str'&gt;</td>\n",
       "      <td>&lt;class 'str'&gt;</td>\n",
       "      <td>&lt;class 'str'&gt;</td>\n",
       "      <td>&lt;class 'float'&gt;</td>\n",
       "      <td>&lt;class 'str'&gt;</td>\n",
       "      <td>&lt;class 'str'&gt;</td>\n",
       "    </tr>\n",
       "    <tr>\n",
       "      <th>997</th>\n",
       "      <td>&lt;class 'str'&gt;</td>\n",
       "      <td>&lt;class 'pandas._libs.tslibs.timestamps.Timesta...</td>\n",
       "      <td>&lt;class 'str'&gt;</td>\n",
       "      <td>&lt;class 'str'&gt;</td>\n",
       "      <td>&lt;class 'str'&gt;</td>\n",
       "      <td>&lt;class 'float'&gt;</td>\n",
       "      <td>&lt;class 'str'&gt;</td>\n",
       "      <td>&lt;class 'str'&gt;</td>\n",
       "      <td>&lt;class 'str'&gt;</td>\n",
       "      <td>&lt;class 'str'&gt;</td>\n",
       "      <td>&lt;class 'str'&gt;</td>\n",
       "      <td>&lt;class 'str'&gt;</td>\n",
       "      <td>&lt;class 'str'&gt;</td>\n",
       "      <td>&lt;class 'str'&gt;</td>\n",
       "    </tr>\n",
       "    <tr>\n",
       "      <th>998</th>\n",
       "      <td>&lt;class 'str'&gt;</td>\n",
       "      <td>&lt;class 'pandas._libs.tslibs.timestamps.Timesta...</td>\n",
       "      <td>&lt;class 'str'&gt;</td>\n",
       "      <td>&lt;class 'str'&gt;</td>\n",
       "      <td>&lt;class 'str'&gt;</td>\n",
       "      <td>&lt;class 'float'&gt;</td>\n",
       "      <td>&lt;class 'str'&gt;</td>\n",
       "      <td>&lt;class 'str'&gt;</td>\n",
       "      <td>&lt;class 'str'&gt;</td>\n",
       "      <td>&lt;class 'str'&gt;</td>\n",
       "      <td>&lt;class 'str'&gt;</td>\n",
       "      <td>&lt;class 'float'&gt;</td>\n",
       "      <td>&lt;class 'str'&gt;</td>\n",
       "      <td>&lt;class 'str'&gt;</td>\n",
       "    </tr>\n",
       "    <tr>\n",
       "      <th>999</th>\n",
       "      <td>&lt;class 'str'&gt;</td>\n",
       "      <td>&lt;class 'pandas._libs.tslibs.timestamps.Timesta...</td>\n",
       "      <td>&lt;class 'str'&gt;</td>\n",
       "      <td>&lt;class 'str'&gt;</td>\n",
       "      <td>&lt;class 'str'&gt;</td>\n",
       "      <td>&lt;class 'str'&gt;</td>\n",
       "      <td>&lt;class 'str'&gt;</td>\n",
       "      <td>&lt;class 'str'&gt;</td>\n",
       "      <td>&lt;class 'str'&gt;</td>\n",
       "      <td>&lt;class 'str'&gt;</td>\n",
       "      <td>&lt;class 'str'&gt;</td>\n",
       "      <td>&lt;class 'str'&gt;</td>\n",
       "      <td>&lt;class 'str'&gt;</td>\n",
       "      <td>&lt;class 'str'&gt;</td>\n",
       "    </tr>\n",
       "  </tbody>\n",
       "</table>\n",
       "<p>1000 rows × 14 columns</p>\n",
       "</div>"
      ],
      "text/plain": [
       "         animal_id                                           datetime  \\\n",
       "0    <class 'str'>  <class 'pandas._libs.tslibs.timestamps.Timesta...   \n",
       "1    <class 'str'>  <class 'pandas._libs.tslibs.timestamps.Timesta...   \n",
       "2    <class 'str'>  <class 'pandas._libs.tslibs.timestamps.Timesta...   \n",
       "3    <class 'str'>  <class 'pandas._libs.tslibs.timestamps.Timesta...   \n",
       "4    <class 'str'>  <class 'pandas._libs.tslibs.timestamps.Timesta...   \n",
       "..             ...                                                ...   \n",
       "995  <class 'str'>  <class 'pandas._libs.tslibs.timestamps.Timesta...   \n",
       "996  <class 'str'>  <class 'pandas._libs.tslibs.timestamps.Timesta...   \n",
       "997  <class 'str'>  <class 'pandas._libs.tslibs.timestamps.Timesta...   \n",
       "998  <class 'str'>  <class 'pandas._libs.tslibs.timestamps.Timesta...   \n",
       "999  <class 'str'>  <class 'pandas._libs.tslibs.timestamps.Timesta...   \n",
       "\n",
       "         monthyear  date_of_birth   outcome_type  outcome_subtype  \\\n",
       "0    <class 'str'>  <class 'str'>  <class 'str'>    <class 'str'>   \n",
       "1    <class 'str'>  <class 'str'>  <class 'str'>  <class 'float'>   \n",
       "2    <class 'str'>  <class 'str'>  <class 'str'>  <class 'float'>   \n",
       "3    <class 'str'>  <class 'str'>  <class 'str'>  <class 'float'>   \n",
       "4    <class 'str'>  <class 'str'>  <class 'str'>    <class 'str'>   \n",
       "..             ...            ...            ...              ...   \n",
       "995  <class 'str'>  <class 'str'>  <class 'str'>  <class 'float'>   \n",
       "996  <class 'str'>  <class 'str'>  <class 'str'>  <class 'float'>   \n",
       "997  <class 'str'>  <class 'str'>  <class 'str'>  <class 'float'>   \n",
       "998  <class 'str'>  <class 'str'>  <class 'str'>  <class 'float'>   \n",
       "999  <class 'str'>  <class 'str'>  <class 'str'>    <class 'str'>   \n",
       "\n",
       "       animal_type sex_upon_outcome age_upon_outcome          breed  \\\n",
       "0    <class 'str'>    <class 'str'>    <class 'str'>  <class 'str'>   \n",
       "1    <class 'str'>    <class 'str'>    <class 'str'>  <class 'str'>   \n",
       "2    <class 'str'>    <class 'str'>    <class 'str'>  <class 'str'>   \n",
       "3    <class 'str'>    <class 'str'>    <class 'str'>  <class 'str'>   \n",
       "4    <class 'str'>    <class 'str'>    <class 'str'>  <class 'str'>   \n",
       "..             ...              ...              ...            ...   \n",
       "995  <class 'str'>    <class 'str'>    <class 'str'>  <class 'str'>   \n",
       "996  <class 'str'>    <class 'str'>    <class 'str'>  <class 'str'>   \n",
       "997  <class 'str'>    <class 'str'>    <class 'str'>  <class 'str'>   \n",
       "998  <class 'str'>    <class 'str'>    <class 'str'>  <class 'str'>   \n",
       "999  <class 'str'>    <class 'str'>    <class 'str'>  <class 'str'>   \n",
       "\n",
       "             color             name       new_age1       new_sex1  \n",
       "0    <class 'str'>  <class 'float'>  <class 'str'>  <class 'str'>  \n",
       "1    <class 'str'>    <class 'str'>  <class 'str'>  <class 'str'>  \n",
       "2    <class 'str'>    <class 'str'>  <class 'str'>  <class 'str'>  \n",
       "3    <class 'str'>    <class 'str'>  <class 'str'>  <class 'str'>  \n",
       "4    <class 'str'>  <class 'float'>  <class 'str'>  <class 'str'>  \n",
       "..             ...              ...            ...            ...  \n",
       "995  <class 'str'>  <class 'float'>  <class 'str'>  <class 'str'>  \n",
       "996  <class 'str'>  <class 'float'>  <class 'str'>  <class 'str'>  \n",
       "997  <class 'str'>    <class 'str'>  <class 'str'>  <class 'str'>  \n",
       "998  <class 'str'>  <class 'float'>  <class 'str'>  <class 'str'>  \n",
       "999  <class 'str'>    <class 'str'>  <class 'str'>  <class 'str'>  \n",
       "\n",
       "[1000 rows x 14 columns]"
      ]
     },
     "execution_count": 43,
     "metadata": {},
     "output_type": "execute_result"
    }
   ],
   "source": [
    "# This line will apply the base `type()` function to \n",
    "# all entries of the DataFrame.\n",
    "\n",
    "animals.applymap(type)"
   ]
  },
  {
   "cell_type": "markdown",
   "metadata": {
    "heading_collapsed": true
   },
   "source": [
    "# Level Up: Faster NumPy Methods"
   ]
  },
  {
   "cell_type": "markdown",
   "metadata": {
    "hidden": true
   },
   "source": [
    "In general, `np.where()` and `np.select()` are faster than `map()`. This won't matter too much with reasonably-sized data but can be a consideration for ***big data***."
   ]
  },
  {
   "cell_type": "markdown",
   "metadata": {
    "heading_collapsed": true,
    "hidden": true
   },
   "source": [
    "## NumPy's `where()` Method"
   ]
  },
  {
   "cell_type": "code",
   "execution_count": 46,
   "metadata": {
    "hidden": true,
    "scrolled": true
   },
   "outputs": [
    {
     "data": {
      "text/plain": [
       "0       3 weeks\n",
       "1      10 years\n",
       "2       3 years\n",
       "3      6 months\n",
       "4          NULL\n",
       "         ...   \n",
       "995    2 months\n",
       "996    6 months\n",
       "997     1 month\n",
       "998    2 months\n",
       "999     5 years\n",
       "Name: new_age2, Length: 1000, dtype: object"
      ]
     },
     "execution_count": 46,
     "metadata": {},
     "output_type": "execute_result"
    }
   ],
   "source": [
    "animals['new_age2'] = np.where(animals['age_upon_outcome'] == '1 year',\n",
    "                              '1 years', animals['age_upon_outcome'])\n",
    "animals['new_age2']"
   ]
  },
  {
   "cell_type": "code",
   "execution_count": 47,
   "metadata": {
    "hidden": true
   },
   "outputs": [
    {
     "data": {
      "text/plain": [
       "0"
      ]
     },
     "execution_count": 47,
     "metadata": {},
     "output_type": "execute_result"
    }
   ],
   "source": [
    "# Check we got the same results with np.where()\n",
    "(animals['new_age1'] != animals['new_age2']).sum()"
   ]
  },
  {
   "cell_type": "code",
   "execution_count": 48,
   "metadata": {
    "hidden": true
   },
   "outputs": [
    {
     "name": "stdout",
     "output_type": "stream",
     "text": [
      "210 µs ± 5.38 µs per loop (mean ± std. dev. of 7 runs, 1000 loops each)\n"
     ]
    }
   ],
   "source": [
    "# Let's time how long it takes .map() to run by running it multiple times\n",
    "%timeit animals['new_age1'] = animals['age_upon_outcome'].map(one_year)"
   ]
  },
  {
   "cell_type": "code",
   "execution_count": 51,
   "metadata": {
    "hidden": true
   },
   "outputs": [
    {
     "name": "stdout",
     "output_type": "stream",
     "text": [
      "162 µs ± 1.29 µs per loop (mean ± std. dev. of 7 runs, 10000 loops each)\n"
     ]
    }
   ],
   "source": [
    "# Let's time how long it takes np.where() to run by running it multiple times\n",
    "%timeit animals['new_age2'] = np.where(animals['age_upon_outcome'] == '1 year',\\\n",
    "                                       '1 years',animals['age_upon_outcome'])"
   ]
  },
  {
   "cell_type": "markdown",
   "metadata": {
    "heading_collapsed": true,
    "hidden": true
   },
   "source": [
    "## NumPy's `select()` Method"
   ]
  },
  {
   "cell_type": "markdown",
   "metadata": {
    "hidden": true
   },
   "source": [
    "Again, `numpy` will be faster:"
   ]
  },
  {
   "cell_type": "code",
   "execution_count": 52,
   "metadata": {
    "hidden": true
   },
   "outputs": [],
   "source": [
    "conditions = [animals['sex_upon_outcome'] == 'Neutered Male',\n",
    "             animals['sex_upon_outcome'] == 'Intact Male',\n",
    "             animals['sex_upon_outcome'] == 'Spayed Female',\n",
    "             animals['sex_upon_outcome'] == 'Intact Female',\n",
    "             animals['sex_upon_outcome'] == 'Unknown',\n",
    "             animals['sex_upon_outcome'] == 'NULL']\n",
    "\n",
    "choices = ['Male', 'Male', 'Female', 'Female', 'Unknown', 'Unknown']"
   ]
  },
  {
   "cell_type": "code",
   "execution_count": 53,
   "metadata": {
    "hidden": true
   },
   "outputs": [
    {
     "data": {
      "text/plain": [
       "0         Male\n",
       "1         Male\n",
       "2       Female\n",
       "3         Male\n",
       "4      Unknown\n",
       "        ...   \n",
       "995       Male\n",
       "996     Female\n",
       "997       Male\n",
       "998     Female\n",
       "999       Male\n",
       "Name: new_sex2, Length: 1000, dtype: object"
      ]
     },
     "execution_count": 53,
     "metadata": {},
     "output_type": "execute_result"
    }
   ],
   "source": [
    "animals['new_sex2'] = np.select(conditions, choices)\n",
    "animals['new_sex2']"
   ]
  },
  {
   "cell_type": "code",
   "execution_count": 54,
   "metadata": {
    "hidden": true
   },
   "outputs": [
    {
     "data": {
      "text/plain": [
       "0"
      ]
     },
     "execution_count": 54,
     "metadata": {},
     "output_type": "execute_result"
    }
   ],
   "source": [
    "# Check we got the same results with np.where()\n",
    "(animals['new_sex1'] != animals['new_sex2']).sum()"
   ]
  },
  {
   "cell_type": "code",
   "execution_count": 55,
   "metadata": {
    "hidden": true
   },
   "outputs": [
    {
     "name": "stdout",
     "output_type": "stream",
     "text": [
      "249 µs ± 4.26 µs per loop (mean ± std. dev. of 7 runs, 1000 loops each)\n"
     ]
    }
   ],
   "source": [
    "# Let's time how long it takes .map() to run by running it multiple times\n",
    "%timeit animals['new_sex1'] = animals['sex_upon_outcome'].map(sex_mapper)"
   ]
  },
  {
   "cell_type": "code",
   "execution_count": 56,
   "metadata": {
    "hidden": true
   },
   "outputs": [
    {
     "name": "stdout",
     "output_type": "stream",
     "text": [
      "186 µs ± 2.38 µs per loop (mean ± std. dev. of 7 runs, 10000 loops each)\n"
     ]
    }
   ],
   "source": [
    "# Let's time how long it takes np.select() to run by running it multiple times\n",
    "%timeit animals['new_sex2'] = np.select(conditions, choices)"
   ]
  }
 ],
 "metadata": {
  "kernelspec": {
   "display_name": "Python 3",
   "language": "python",
   "name": "python3"
  },
  "language_info": {
   "codemirror_mode": {
    "name": "ipython",
    "version": 3
   },
   "file_extension": ".py",
   "mimetype": "text/x-python",
   "name": "python",
   "nbconvert_exporter": "python",
   "pygments_lexer": "ipython3",
   "version": "3.8.5"
  },
  "toc": {
   "base_numbering": 1,
   "nav_menu": {},
   "number_sections": true,
   "sideBar": true,
   "skip_h1_title": false,
   "title_cell": "Table of Contents",
   "title_sidebar": "TOC",
   "toc_cell": true,
   "toc_position": {
    "height": "calc(100% - 180px)",
    "left": "10px",
    "top": "150px",
    "width": "267px"
   },
   "toc_section_display": true,
   "toc_window_display": true
  }
 },
 "nbformat": 4,
 "nbformat_minor": 4
}
